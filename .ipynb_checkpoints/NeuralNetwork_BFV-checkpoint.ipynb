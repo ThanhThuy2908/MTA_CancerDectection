{
 "cells": [
  {
   "cell_type": "code",
   "execution_count": 1,
   "id": "b9bfcc25",
   "metadata": {},
   "outputs": [],
   "source": [
    "import numpy as np\n",
    "from wrapper import SEAL"
   ]
  },
  {
   "cell_type": "code",
   "execution_count": 2,
   "id": "80ec5ceb",
   "metadata": {},
   "outputs": [],
   "source": [
    "def to_object_dtype(tensoreuint):\n",
    "        shape = tensoreuint.shape\n",
    "        tensoreuint.shape = (tensoreuint.size,)\n",
    "        new = np.empty((tensoreuint.size,), dtype=object)\n",
    "        for i in range(tensoreuint.size):\n",
    "            new[i] = int(tensoreuint[i].item())\n",
    "        new.shape = shape\n",
    "        return new"
   ]
  },
  {
   "cell_type": "code",
   "execution_count": 3,
   "id": "cd67b6fb",
   "metadata": {},
   "outputs": [],
   "source": [
    "class NeuralNetwork():\n",
    "    def __init__(self):\n",
    "        self.SEALobj = SEAL()\n",
    "        self.q_list = self.SEALobj.q_list\n",
    "        self.k_list = self.SEALobj.k_list\n",
    "        self.n_parm = self.SEALobj.n_parm\n",
    "        self.enc_poly_size = self.SEALobj.enc_poly_size\n",
    "        self.q_size = len(self.q_list)\n",
    "        self.t_size = len(self.SEALobj.t_list)\n",
    "        \n",
    "        self.dense1_kernel = None\n",
    "        self.dense1_bias = None\n",
    "        self.dense2_kernel = None\n",
    "        self.dense2_bias = None\n",
    "        self.dense3_kernel = None\n",
    "        self.dense3_bias = None\n",
    "        \n",
    "#         self.encrypted_input = None\n",
    "        \n",
    "      \n",
    "    \n",
    "    \n",
    "    def get_parameters(self):\n",
    "        self.dense1_kernel = np.load(\"./nn_data/dense1_kernel.npy\")\n",
    "        self.dense1_bias = np.load(\"./nn_data/dense1_bias.npy\")\n",
    "        self.dense2_kernel = np.load(\"./nn_data/dense2_kernel.npy\")\n",
    "        self.dense2_bias = np.load(\"./nn_data/dense2_bias.npy\")\n",
    "        self.dense3_kernel = np.load(\"./nn_data/dense3_kernel.npy\")\n",
    "        self.dense3_bias = np.load(\"./nn_data/dense3_bias.npy\")\n",
    "    \n",
    "    \"\"\"input_data = np.array(shape=(1,30,5))\n",
    "    \"\"\"\n",
    "#     def get_encrypted_input(self, input_data):\n",
    "#         self.encrypted_input = input_data\n",
    "        \n",
    "    def predict(self, encrypted_input):\n",
    "        encrypted_output = np.empty((encrypted_input.shape[0],30,self.t_size), dtype=np.uint64)\n",
    "        poly_groups_count = encrypted_input.shape[0]//self.enc_poly_size\n",
    "        \n",
    "        #LEYER 1: Fully connected layer\n",
    "        encrypted_output = to_object_dtype(encrypted_input)\n",
    "        dense1_kernel = to_object_dtype(self.dense1_kernel)\n",
    "        \n",
    "        ## kernel\n",
    "        temp = np.empty((encrypted_output.shape[0],30,self.t_size), dtype=object)\n",
    "        for t_index in range(self.t_size):\n",
    "            temp[...,t_index] = encrypted_output[...,t_index].dot(dense1_kernel[...,t_index])\n",
    "        encrypted_output = temp\n",
    "        temp = None\n",
    "        ## % q\n",
    "        for axis1 in range(encrypted_output.shape[1]):\n",
    "            for axis2 in range(encrypted_output.shape[2]):\n",
    "                for poly_group_index in range(poly_groups_count):\n",
    "                    for size_index in range(2):\n",
    "                        for q_index in range(self.q_size):\n",
    "                            for n_index in range(self.n_parm+1):\n",
    "                                axis0 = poly_group_index*self.enc_poly_size + size_index*self.q_size*(self.n_parm+1) + q_index*(self.n_parm+1) + n_index\n",
    "                                temp = encrypted_output[axis0,axis1,axis2]\n",
    "                                temp = temp % self.q_list[q_index]\n",
    "                                encrypted_output[axis0,axis1,axis2] = temp\n",
    "        ## bias\n",
    "        for axis1 in range(encrypted_output.shape[1]):\n",
    "            for axis2 in range(encrypted_output.shape[2]):\n",
    "                for poly_group_index in range(poly_groups_count):\n",
    "                    for q_index in range(self.q_size):\n",
    "                        axis0 = poly_group_index*self.enc_poly_size + ((self.n_parm+1)*q_index)\n",
    "                        temp = encrypted_output[axis0,axis1,axis2]\n",
    "                        temp = temp + self.dense1_bias[axis1,axis2].item()*self.k_list[axis2][q_index]\n",
    "                        temp = temp % self.q_list[q_index]\n",
    "                        encrypted_output[axis0,axis1,axis2] = temp\n",
    "                        \n",
    "        \n",
    "        #LAYER2: square activation function\n",
    "        encrypted_output = self.SEALobj.square_tensor(encrypted_output)\n",
    "        \n",
    "        #LAYER3: fully connected layer\n",
    "        encrypted_output = to_object_dtype(encrypted_output)\n",
    "        dense2_kernel = to_object_dtype(self.dense2_kernel)\n",
    "        \n",
    "        ## kernel\n",
    "        temp = np.empty((encrypted_output.shape[0],16,self.t_size), dtype=object)\n",
    "        for t_index in range(self.t_size):\n",
    "            temp[...,t_index] = encrypted_output[...,t_index].dot(dense2_kernel[...,t_index])\n",
    "        encrypted_output = temp\n",
    "        temp = None\n",
    "        ## % q\n",
    "        for axis1 in range(encrypted_output.shape[1]):\n",
    "            for axis2 in range(encrypted_output.shape[2]):\n",
    "                for poly_group_index in range(poly_groups_count):\n",
    "                    for size_index in range(2):\n",
    "                        for q_index in range(self.q_size):\n",
    "                            for n_index in range(self.n_parm+1):\n",
    "                                axis0 = poly_group_index*self.enc_poly_size + size_index*self.q_size*(self.n_parm+1) + q_index*(self.n_parm+1) + n_index\n",
    "                                temp = encrypted_output[axis0,axis1,axis2]\n",
    "                                temp = temp % self.q_list[q_index]\n",
    "                                encrypted_output[axis0,axis1,axis2] = temp\n",
    "        ## bias\n",
    "        for axis1 in range(encrypted_output.shape[1]):\n",
    "            for axis2 in range(encrypted_output.shape[2]):\n",
    "                for poly_group_index in range(poly_groups_count):\n",
    "                    for q_index in range(self.q_size):\n",
    "                        axis0 = poly_group_index*self.enc_poly_size + ((self.n_parm+1)*q_index)\n",
    "                        temp = encrypted_output[axis0,axis1,axis2]\n",
    "                        temp = temp + self.dense2_bias[axis1,axis2].item()*self.k_list[axis2][q_index]\n",
    "                        temp = temp % self.q_list[q_index]\n",
    "                        encrypted_output[axis0,axis1,axis2] = temp\n",
    "                        \n",
    "        \n",
    "        #LAYER4: square activation function\n",
    "        encrypted_output = self.SEALobj.square_tensor(encrypted_output)\n",
    "\n",
    "        #LAYER5: fully connected layer\n",
    "        encrypted_output = to_object_dtype(encrypted_output)\n",
    "        dense3_kernel = to_object_dtype(self.dense3_kernel)\n",
    "        \n",
    "        ## kernel\n",
    "        temp = np.empty((encrypted_output.shape[0],2,self.t_size), dtype=object)\n",
    "        for t_index in range(self.t_size):\n",
    "            temp[...,t_index] = encrypted_output[...,t_index].dot(dense3_kernel[...,t_index])\n",
    "        encrypted_output = temp\n",
    "        temp = None\n",
    "        ## % q\n",
    "        for axis1 in range(encrypted_output.shape[1]):\n",
    "            for axis2 in range(encrypted_output.shape[2]):\n",
    "                for poly_group_index in range(poly_groups_count):\n",
    "                    for size_index in range(2):\n",
    "                        for q_index in range(self.q_size):\n",
    "                            for n_index in range(self.n_parm+1):\n",
    "                                axis0 = poly_group_index*self.enc_poly_size + size_index*self.q_size*(self.n_parm+1) + q_index*(self.n_parm+1) + n_index\n",
    "                                temp = encrypted_output[axis0,axis1,axis2]\n",
    "                                temp = temp % self.q_list[q_index]\n",
    "                                encrypted_output[axis0,axis1,axis2] = temp\n",
    "        ## bias\n",
    "        for axis1 in range(encrypted_output.shape[1]):\n",
    "            for axis2 in range(encrypted_output.shape[2]):\n",
    "                for poly_group_index in range(poly_groups_count):\n",
    "                    for q_index in range(self.q_size):\n",
    "                        axis0 = poly_group_index*self.enc_poly_size + ((self.n_parm+1)*q_index)\n",
    "                        temp = encrypted_output[axis0,axis1,axis2]\n",
    "                        temp = temp + self.dense3_bias[axis1,axis2].item()*self.k_list[axis2][q_index]\n",
    "                        temp = temp % self.q_list[q_index]\n",
    "                        encrypted_output[axis0,axis1,axis2] = temp\n",
    "                        \n",
    "        return encrypted_output                \n",
    "        "
   ]
  },
  {
   "cell_type": "code",
   "execution_count": 4,
   "id": "e1edfe64",
   "metadata": {},
   "outputs": [
    {
     "name": "stdout",
     "output_type": "stream",
     "text": [
      "None\n"
     ]
    }
   ],
   "source": [
    "nn = NeuralNetwork()\n",
    "print(nn.dense1_kernel)"
   ]
  },
  {
   "cell_type": "code",
   "execution_count": 5,
   "id": "18dce353",
   "metadata": {},
   "outputs": [],
   "source": [
    "nn.get_parameters()"
   ]
  },
  {
   "cell_type": "code",
   "execution_count": 6,
   "id": "221f8493",
   "metadata": {},
   "outputs": [],
   "source": [
    "input = np.load(\"./encrypted_input.npy\")"
   ]
  },
  {
   "cell_type": "code",
   "execution_count": 7,
   "id": "f1425eee",
   "metadata": {},
   "outputs": [
    {
     "data": {
      "text/plain": [
       "(32776, 30, 5)"
      ]
     },
     "execution_count": 7,
     "metadata": {},
     "output_type": "execute_result"
    }
   ],
   "source": [
    "input.shape"
   ]
  },
  {
   "cell_type": "code",
   "execution_count": null,
   "id": "aa00fe8b",
   "metadata": {},
   "outputs": [],
   "source": [
    "out = nn.predict(input)"
   ]
  },
  {
   "cell_type": "code",
   "execution_count": 10,
   "id": "7f03c103",
   "metadata": {},
   "outputs": [],
   "source": [
    "np.save(\"./encrypted_output\", out)"
   ]
  },
  {
   "cell_type": "code",
   "execution_count": 19,
   "id": "d45fd0c5",
   "metadata": {},
   "outputs": [
    {
     "data": {
      "text/plain": [
       "array([[[12827646867462575, 26690609510442376, 27933625669496034,\n",
       "         31354352493815607, 5279518312064719],\n",
       "        [3049660827602143, 184183208411366, 5859412107105372,\n",
       "         32316258702329924, 3611851054926007]],\n",
       "\n",
       "       [[28419711565290697, 15334123460265229, 6944627538602931,\n",
       "         7025361370518585, 22588794543763894],\n",
       "        [10597646903073078, 11047876816460084, 30419620871051076,\n",
       "         18465544752056877, 25573966303517171]],\n",
       "\n",
       "       [[32167350244265438, 171858439550527, 35795987209691727,\n",
       "         25869963697287322, 8769544673880739],\n",
       "        [15019111896549562, 25057217011878105, 34592758982027538,\n",
       "         28412051276972831, 31396589235933599]],\n",
       "\n",
       "       ...,\n",
       "\n",
       "       [[886944817627947796, 461111031167440627, 448006373817954727,\n",
       "         190576965007226013, 314167569859010190],\n",
       "        [369689409867263640, 900576534673381896, 948710366836864734,\n",
       "         588936665753383535, 1106468373610612633]],\n",
       "\n",
       "       [[182440566478448338, 510959219491092395, 946042851668454168,\n",
       "         908889518084756614, 971429935798649889],\n",
       "        [886321841697415079, 1094656893485109957, 104420948398413286,\n",
       "         97267335698725921, 925928565911474164]],\n",
       "\n",
       "       [[0, 0, 0, 0, 0],\n",
       "        [0, 0, 0, 0, 0]]], dtype=object)"
      ]
     },
     "execution_count": 19,
     "metadata": {},
     "output_type": "execute_result"
    }
   ],
   "source": [
    "out"
   ]
  },
  {
   "cell_type": "code",
   "execution_count": null,
   "id": "742bef3e",
   "metadata": {},
   "outputs": [],
   "source": []
  }
 ],
 "metadata": {
  "kernelspec": {
   "display_name": "Python 3 (ipykernel)",
   "language": "python",
   "name": "python3"
  },
  "language_info": {
   "codemirror_mode": {
    "name": "ipython",
    "version": 3
   },
   "file_extension": ".py",
   "mimetype": "text/x-python",
   "name": "python",
   "nbconvert_exporter": "python",
   "pygments_lexer": "ipython3",
   "version": "3.8.10"
  }
 },
 "nbformat": 4,
 "nbformat_minor": 5
}
