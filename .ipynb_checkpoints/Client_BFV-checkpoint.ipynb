{
 "cells": [
  {
   "cell_type": "code",
   "execution_count": 2,
   "id": "7a48145e",
   "metadata": {},
   "outputs": [
    {
     "ename": "ModuleNotFoundError",
     "evalue": "No module named 'wrapper'",
     "output_type": "error",
     "traceback": [
      "\u001b[0;31m---------------------------------------------------------------------------\u001b[0m",
      "\u001b[0;31mModuleNotFoundError\u001b[0m                       Traceback (most recent call last)",
      "Input \u001b[0;32mIn [2]\u001b[0m, in \u001b[0;36m<module>\u001b[0;34m\u001b[0m\n\u001b[1;32m      1\u001b[0m \u001b[38;5;28;01mimport\u001b[39;00m \u001b[38;5;21;01mnumpy\u001b[39;00m \u001b[38;5;28;01mas\u001b[39;00m \u001b[38;5;21;01mnp\u001b[39;00m\n\u001b[1;32m      2\u001b[0m \u001b[38;5;28;01mimport\u001b[39;00m \u001b[38;5;21;01mpandas\u001b[39;00m \u001b[38;5;28;01mas\u001b[39;00m \u001b[38;5;21;01mpd\u001b[39;00m\n\u001b[0;32m----> 3\u001b[0m \u001b[38;5;28;01mfrom\u001b[39;00m \u001b[38;5;21;01mwrapper\u001b[39;00m \u001b[38;5;28;01mimport\u001b[39;00m SEAL, t_list\n\u001b[1;32m      4\u001b[0m \u001b[38;5;28;01mimport\u001b[39;00m \u001b[38;5;21;01mctypes\u001b[39;00m\n",
      "\u001b[0;31mModuleNotFoundError\u001b[0m: No module named 'wrapper'"
     ]
    }
   ],
   "source": [
    "import numpy as np\n",
    "import pandas as pd\n",
    "from wrapper import SEAL, t_list\n",
    "import ctypes"
   ]
  },
  {
   "cell_type": "code",
   "execution_count": 2,
   "id": "1d516a57",
   "metadata": {},
   "outputs": [],
   "source": [
    "def extended_Euclidean_algorithm(a, b):\n",
    "\tb0 = b\n",
    "\tx0, x1 = 0, 1\n",
    "\tif b == 1: return 1\n",
    "\twhile a > 1:\n",
    "\t\tq = a // b\n",
    "\t\ta, b = b, a%b\n",
    "\t\tx0, x1 = x1 - q * x0, x0\n",
    "\tif x1 < 0: x1 += b0\n",
    "\treturn x1\n",
    "\n",
    "def chinese_remainder_theorem(array):\n",
    "\tresult = 0\n",
    "\tfor t_index in range(len(array)):\n",
    "\t\tresult += array[t_index].item() * bezout_coefficients[t_index] * t_product_over_t[t_index]\n",
    "\treturn result % t_product\n",
    "\n",
    "def crt_inverse(tensor):\n",
    "\texamples_count = tensor.shape[0]\n",
    "\ttemp = np.empty(tensor.shape[:-1], dtype=object)\n",
    "\tfor i in range(examples_count):\n",
    "\t\tfor j in range(2):\n",
    "\t\t\ttemp[i, j] = chinese_remainder_theorem(tensor[i, j, :])\n",
    "\t\t\tif (temp[i, j]>negative_threshold):\n",
    "\t\t\t\ttemp[i, j] = temp[i, j] - t_product\n",
    "\treturn temp"
   ]
  },
  {
   "cell_type": "code",
   "execution_count": 3,
   "id": "88e19747",
   "metadata": {},
   "outputs": [],
   "source": [
    "# CRT PARAMETERS\n",
    "# compute the producte of all t, and the threshold for negative numbers:\n",
    "#   t_product\n",
    "#   negative_threshold\n",
    "t_product = 1\n",
    "for t_index in range(len(t_list)):\n",
    "\tt_product = t_product * t_list[t_index]\n",
    "negative_threshold = t_product // 2\n",
    "# compute t_product // t and the Bezout coefficients, for all t: \n",
    "#   t_product_over_t\n",
    "#   bezout_coefficients\n",
    "t_product_over_t = []\n",
    "bezout_coefficients = []\n",
    "for t_index in range(len(t_list)):\n",
    "\tt_product_over_t.append(t_product // t_list[t_index])\n",
    "\ttemp = extended_Euclidean_algorithm(t_product_over_t[t_index], t_list[t_index])\n",
    "\tbezout_coefficients.append(temp)"
   ]
  },
  {
   "cell_type": "code",
   "execution_count": 4,
   "id": "497178fe",
   "metadata": {},
   "outputs": [],
   "source": [
    "class Client:\n",
    "    \n",
    "    def __init__(self, user_id):\n",
    "        self.user_id = user_id        \n",
    "        self.SEALobj = SEAL()        \n",
    "        self.t_list = self.SEALobj.t_list\n",
    "        self.t_size = len(self.SEALobj.t_list)\n",
    "        self.precision = 10\n",
    "        \n",
    "        \n",
    "        self.sample = None\n",
    "        self.encrypted_sample = None\n",
    "        self.encrypted_result = None\n",
    "        self.result = None\n",
    "        \n",
    "                        \n",
    "    def generate_keys(self):\n",
    "        self.lib = ctypes.cdll.LoadLibrary('./SEAL/libseal.so')\n",
    "        for i in range(5):\n",
    "            if (not (os.path.isfile(\"./keys/evaluation-\"+str(i))\n",
    "                    and os.path.isfile(\"./keys/public-\"+str(i))\n",
    "                    and os.path.isfile(\"./keys/secret-\"+str(i))\n",
    "                    )):\n",
    "                print(\"Key missing: generating new keys...\")\n",
    "                self.lib.generate_new_keys()\n",
    "                break\n",
    "                \n",
    "    \"\"\"\n",
    "    Raw sample data:\n",
    "    input_data = np.array(shape = (1, 30), dtype='f')\n",
    "    \"\"\"\n",
    "    def receive_sample(self, input_data):\n",
    "        self.sample = input_data\n",
    "    \n",
    "    def receive_encrypted_result(self, data):\n",
    "        self.encrypted_result = data\n",
    "        \n",
    "        \n",
    "    \"\"\"Encode: converting float numbers n to int((n * precision) % t_i)\n",
    "    Input: input_data type(np.float32), shape=(1,30)\n",
    "    Output: encoded_sample type(np.uint64), shape=(1,30,5)\n",
    "    \"\"\"\n",
    "    def encode_sample(self, input_data, precision=10):\n",
    "        encoded_input = np.empty(shape=(input_data.shape[0], input_data.shape[1], self.t_size), dtype=np.uint64)\n",
    "        for i in range(input_data.shape[0]): #1\n",
    "            for j in range(input_data.shape[1]): #30\n",
    "                value = round(input_data[i,j].item()*precision)\n",
    "                for t in range(self.t_size):\n",
    "                    encoded_input[i, j, t] = value % self.t_list[t]\n",
    "        return encoded_input\n",
    "    \n",
    "    \n",
    "\n",
    "    def encrypt_sample(self, encoded_sample):\n",
    "        return self.SEALobj.encrypt_tensor(encoded_sample)\n",
    "    \n",
    "    def decrypt_sample(self, encrypted_output):\n",
    "        return self.SEALobj.decrypt_tensor(encrypted_output,1)\n",
    "    \n",
    "       \n",
    "    \n",
    "    def get_encoded_sample(self):\n",
    "        return self.encoded_sample\n",
    "    \n",
    "    def get_encrypted_sample(self):\n",
    "        return self.encrypted_sample\n",
    "    "
   ]
  },
  {
   "cell_type": "code",
   "execution_count": 5,
   "id": "aadb0d5b",
   "metadata": {},
   "outputs": [],
   "source": [
    "client = Client(1)\n",
    "a = np.array([[ 0.49313486, -0.34081736,  0.50191972,  0.38008119,  0.05704016,\n",
    "        0.46813485,  0.16016434,  0.45979075,  0.12956228, -0.28383312,\n",
    "        0.34441204, -0.41194671,  0.3192262 ,  0.2863989 , -0.42557394,\n",
    "        0.85224107, -0.12259865,  0.14692686, -0.06850089,  0.17728197,\n",
    "        0.88944082,  0.26251982,  0.89340995,  0.76063247,  0.35957399,\n",
    "        1.9153767 ,  0.62527495,  1.02842109,  1.39647083,  1.17874205]], dtype='f')\n",
    "client.receive_sample(a)"
   ]
  },
  {
   "cell_type": "code",
   "execution_count": 13,
   "id": "d7e01e10",
   "metadata": {},
   "outputs": [
    {
     "data": {
      "text/plain": [
       "array([[ 0.49313486, -0.34081736,  0.50191975,  0.38008118,  0.05704016,\n",
       "         0.46813485,  0.16016434,  0.45979074,  0.12956227, -0.28383312,\n",
       "         0.34441203, -0.4119467 ,  0.3192262 ,  0.2863989 , -0.42557395,\n",
       "         0.8522411 , -0.12259865,  0.14692686, -0.06850089,  0.17728198,\n",
       "         0.88944083,  0.2625198 ,  0.89340997,  0.76063246,  0.359574  ,\n",
       "         1.9153767 ,  0.62527496,  1.028421  ,  1.3964708 ,  1.178742  ]],\n",
       "      dtype=float32)"
      ]
     },
     "execution_count": 13,
     "metadata": {},
     "output_type": "execute_result"
    }
   ],
   "source": [
    "client.sample"
   ]
  },
  {
   "cell_type": "code",
   "execution_count": 6,
   "id": "379e309c",
   "metadata": {},
   "outputs": [],
   "source": [
    "encode = client.encode_sample(client.sample)"
   ]
  },
  {
   "cell_type": "code",
   "execution_count": 7,
   "id": "fee5a569",
   "metadata": {},
   "outputs": [
    {
     "data": {
      "text/plain": [
       "array([[[     5,      5,      5,      5,      5],\n",
       "        [ 40958,  65534, 114686, 147454, 188414],\n",
       "        [     5,      5,      5,      5,      5],\n",
       "        [     4,      4,      4,      4,      4],\n",
       "        [     1,      1,      1,      1,      1],\n",
       "        [     5,      5,      5,      5,      5],\n",
       "        [     2,      2,      2,      2,      2],\n",
       "        [     5,      5,      5,      5,      5],\n",
       "        [     1,      1,      1,      1,      1],\n",
       "        [ 40958,  65534, 114686, 147454, 188414],\n",
       "        [     3,      3,      3,      3,      3],\n",
       "        [ 40957,  65533, 114685, 147453, 188413],\n",
       "        [     3,      3,      3,      3,      3],\n",
       "        [     3,      3,      3,      3,      3],\n",
       "        [ 40957,  65533, 114685, 147453, 188413],\n",
       "        [     9,      9,      9,      9,      9],\n",
       "        [ 40960,  65536, 114688, 147456, 188416],\n",
       "        [     1,      1,      1,      1,      1],\n",
       "        [ 40960,  65536, 114688, 147456, 188416],\n",
       "        [     2,      2,      2,      2,      2],\n",
       "        [     9,      9,      9,      9,      9],\n",
       "        [     3,      3,      3,      3,      3],\n",
       "        [     9,      9,      9,      9,      9],\n",
       "        [     8,      8,      8,      8,      8],\n",
       "        [     4,      4,      4,      4,      4],\n",
       "        [    19,     19,     19,     19,     19],\n",
       "        [     6,      6,      6,      6,      6],\n",
       "        [    10,     10,     10,     10,     10],\n",
       "        [    14,     14,     14,     14,     14],\n",
       "        [    12,     12,     12,     12,     12]]], dtype=uint64)"
      ]
     },
     "execution_count": 7,
     "metadata": {},
     "output_type": "execute_result"
    }
   ],
   "source": [
    "client.get_encoded_sample()"
   ]
  },
  {
   "cell_type": "code",
   "execution_count": 8,
   "id": "e1950959",
   "metadata": {},
   "outputs": [],
   "source": [
    "c =client.encrypt_sample()"
   ]
  },
  {
   "cell_type": "code",
   "execution_count": 9,
   "id": "3b43e2b5",
   "metadata": {},
   "outputs": [],
   "source": [
    "np.save(\"./encrypted_input\", c)"
   ]
  },
  {
   "cell_type": "code",
   "execution_count": 50,
   "id": "b77fdee1",
   "metadata": {
    "collapsed": true
   },
   "outputs": [
    {
     "data": {
      "text/plain": [
       "(150,)"
      ]
     },
     "execution_count": 50,
     "metadata": {},
     "output_type": "execute_result"
    }
   ],
   "source": [
    "client.get_encoded_sample().shape"
   ]
  },
  {
   "cell_type": "code",
   "execution_count": 39,
   "id": "fe55093b",
   "metadata": {},
   "outputs": [
    {
     "ename": "AssertionError",
     "evalue": "Error while encrypting a tensor:\n\tinput_tensor should have size[-1] = 5",
     "output_type": "error",
     "traceback": [
      "\u001b[0;31m---------------------------------------------------------------------------\u001b[0m",
      "\u001b[0;31mAssertionError\u001b[0m                            Traceback (most recent call last)",
      "Input \u001b[0;32mIn [39]\u001b[0m, in \u001b[0;36m<module>\u001b[0;34m\u001b[0m\n\u001b[0;32m----> 1\u001b[0m c \u001b[38;5;241m=\u001b[39m\u001b[43mclient\u001b[49m\u001b[38;5;241;43m.\u001b[39;49m\u001b[43mencrypt_sample\u001b[49m\u001b[43m(\u001b[49m\u001b[43m)\u001b[49m\n",
      "Input \u001b[0;32mIn [17]\u001b[0m, in \u001b[0;36mClient.encrypt_sample\u001b[0;34m(self)\u001b[0m\n\u001b[1;32m     95\u001b[0m \u001b[38;5;28;01mdef\u001b[39;00m \u001b[38;5;21mencrypt_sample\u001b[39m(\u001b[38;5;28mself\u001b[39m):\n\u001b[0;32m---> 96\u001b[0m     \u001b[38;5;28;01mreturn\u001b[39;00m \u001b[38;5;28;43mself\u001b[39;49m\u001b[38;5;241;43m.\u001b[39;49m\u001b[43mSEALobj\u001b[49m\u001b[38;5;241;43m.\u001b[39;49m\u001b[43mencrypt_tensor\u001b[49m\u001b[43m(\u001b[49m\u001b[38;5;28;43mself\u001b[39;49m\u001b[38;5;241;43m.\u001b[39;49m\u001b[43mencoded_sample\u001b[49m\u001b[43m)\u001b[49m\n",
      "File \u001b[0;32m~/Documents/NCKH2021/CryptoNets/CancerDetection/wrapper.py:67\u001b[0m, in \u001b[0;36mSEAL.encrypt_tensor\u001b[0;34m(self, input_tensor)\u001b[0m\n\u001b[1;32m     65\u001b[0m \u001b[38;5;28;01mdef\u001b[39;00m \u001b[38;5;21mencrypt_tensor\u001b[39m(\u001b[38;5;28mself\u001b[39m, input_tensor):\n\u001b[1;32m     66\u001b[0m \tshape \u001b[38;5;241m=\u001b[39m input_tensor\u001b[38;5;241m.\u001b[39mshape\n\u001b[0;32m---> 67\u001b[0m \t\u001b[38;5;28;01massert\u001b[39;00m shape[\u001b[38;5;241m-\u001b[39m\u001b[38;5;241m1\u001b[39m] \u001b[38;5;241m==\u001b[39m \u001b[38;5;241m5\u001b[39m, \u001b[38;5;124m\"\u001b[39m\u001b[38;5;124mError while encrypting a tensor:\u001b[39m\u001b[38;5;130;01m\\n\u001b[39;00m\u001b[38;5;130;01m\\t\u001b[39;00m\u001b[38;5;124minput_tensor should have size[-1] = 5\u001b[39m\u001b[38;5;124m\"\u001b[39m\n\u001b[1;32m     69\u001b[0m \t\u001b[38;5;66;03m# Compute sizes\u001b[39;00m\n\u001b[1;32m     70\u001b[0m \tinput_size \u001b[38;5;241m=\u001b[39m input_tensor\u001b[38;5;241m.\u001b[39msize\n",
      "\u001b[0;31mAssertionError\u001b[0m: Error while encrypting a tensor:\n\tinput_tensor should have size[-1] = 5"
     ]
    }
   ],
   "source": []
  },
  {
   "cell_type": "code",
   "execution_count": 27,
   "id": "5d381b7b",
   "metadata": {},
   "outputs": [],
   "source": [
    "c =client.get_encrypted_sample()"
   ]
  },
  {
   "cell_type": "code",
   "execution_count": 28,
   "id": "3e72c32b",
   "metadata": {},
   "outputs": [],
   "source": [
    "c=client.get_encrypted_sample()"
   ]
  },
  {
   "cell_type": "code",
   "execution_count": 30,
   "id": "4cdc44b7",
   "metadata": {},
   "outputs": [
    {
     "ename": "AssertionError",
     "evalue": "Error while encrypting a tensor:\n\tinput_tensor should have size[-1] = 5",
     "output_type": "error",
     "traceback": [
      "\u001b[0;31m---------------------------------------------------------------------------\u001b[0m",
      "\u001b[0;31mAssertionError\u001b[0m                            Traceback (most recent call last)",
      "Input \u001b[0;32mIn [30]\u001b[0m, in \u001b[0;36m<module>\u001b[0;34m\u001b[0m\n\u001b[0;32m----> 1\u001b[0m c\u001b[38;5;241m=\u001b[39m \u001b[43mclient\u001b[49m\u001b[38;5;241;43m.\u001b[39;49m\u001b[43mencrypt_sample\u001b[49m\u001b[43m(\u001b[49m\u001b[43m)\u001b[49m\n",
      "Input \u001b[0;32mIn [17]\u001b[0m, in \u001b[0;36mClient.encrypt_sample\u001b[0;34m(self)\u001b[0m\n\u001b[1;32m     95\u001b[0m \u001b[38;5;28;01mdef\u001b[39;00m \u001b[38;5;21mencrypt_sample\u001b[39m(\u001b[38;5;28mself\u001b[39m):\n\u001b[0;32m---> 96\u001b[0m     \u001b[38;5;28;01mreturn\u001b[39;00m \u001b[38;5;28;43mself\u001b[39;49m\u001b[38;5;241;43m.\u001b[39;49m\u001b[43mSEALobj\u001b[49m\u001b[38;5;241;43m.\u001b[39;49m\u001b[43mencrypt_tensor\u001b[49m\u001b[43m(\u001b[49m\u001b[38;5;28;43mself\u001b[39;49m\u001b[38;5;241;43m.\u001b[39;49m\u001b[43mencoded_sample\u001b[49m\u001b[43m)\u001b[49m\n",
      "File \u001b[0;32m~/Documents/NCKH2021/CryptoNets/CancerDetection/wrapper.py:67\u001b[0m, in \u001b[0;36mSEAL.encrypt_tensor\u001b[0;34m(self, input_tensor)\u001b[0m\n\u001b[1;32m     65\u001b[0m \u001b[38;5;28;01mdef\u001b[39;00m \u001b[38;5;21mencrypt_tensor\u001b[39m(\u001b[38;5;28mself\u001b[39m, input_tensor):\n\u001b[1;32m     66\u001b[0m \tshape \u001b[38;5;241m=\u001b[39m input_tensor\u001b[38;5;241m.\u001b[39mshape\n\u001b[0;32m---> 67\u001b[0m \t\u001b[38;5;28;01massert\u001b[39;00m shape[\u001b[38;5;241m-\u001b[39m\u001b[38;5;241m1\u001b[39m] \u001b[38;5;241m==\u001b[39m \u001b[38;5;241m5\u001b[39m, \u001b[38;5;124m\"\u001b[39m\u001b[38;5;124mError while encrypting a tensor:\u001b[39m\u001b[38;5;130;01m\\n\u001b[39;00m\u001b[38;5;130;01m\\t\u001b[39;00m\u001b[38;5;124minput_tensor should have size[-1] = 5\u001b[39m\u001b[38;5;124m\"\u001b[39m\n\u001b[1;32m     69\u001b[0m \t\u001b[38;5;66;03m# Compute sizes\u001b[39;00m\n\u001b[1;32m     70\u001b[0m \tinput_size \u001b[38;5;241m=\u001b[39m input_tensor\u001b[38;5;241m.\u001b[39msize\n",
      "\u001b[0;31mAssertionError\u001b[0m: Error while encrypting a tensor:\n\tinput_tensor should have size[-1] = 5"
     ]
    }
   ],
   "source": [
    "c= client.encrypt_sample()"
   ]
  },
  {
   "cell_type": "code",
   "execution_count": 1,
   "id": "4d0ee7e8",
   "metadata": {},
   "outputs": [
    {
     "ename": "NameError",
     "evalue": "name 'np' is not defined",
     "output_type": "error",
     "traceback": [
      "\u001b[0;31m---------------------------------------------------------------------------\u001b[0m",
      "\u001b[0;31mNameError\u001b[0m                                 Traceback (most recent call last)",
      "Input \u001b[0;32mIn [1]\u001b[0m, in \u001b[0;36m<module>\u001b[0;34m\u001b[0m\n\u001b[1;32m      1\u001b[0m \u001b[38;5;66;03m#decrypt\u001b[39;00m\n\u001b[0;32m----> 2\u001b[0m out \u001b[38;5;241m=\u001b[39m \u001b[43mnp\u001b[49m\u001b[38;5;241m.\u001b[39mload(\u001b[38;5;124m\"\u001b[39m\u001b[38;5;124m./encrypted_output.npy\u001b[39m\u001b[38;5;124m\"\u001b[39m, allow_pickle\u001b[38;5;241m=\u001b[39m\u001b[38;5;28;01mTrue\u001b[39;00m)\n",
      "\u001b[0;31mNameError\u001b[0m: name 'np' is not defined"
     ]
    }
   ],
   "source": [
    "#decrypt\n",
    "out = np.load(\"./encrypted_output.npy\", allow_pickle=True)"
   ]
  },
  {
   "cell_type": "code",
   "execution_count": 11,
   "id": "26611cc4",
   "metadata": {},
   "outputs": [],
   "source": [
    "decrypted = client.decrypt_sample(out)"
   ]
  },
  {
   "cell_type": "code",
   "execution_count": 12,
   "id": "4cfba8dd",
   "metadata": {},
   "outputs": [],
   "source": [
    "predict = crt_inverse(decrypted)"
   ]
  },
  {
   "cell_type": "code",
   "execution_count": 13,
   "id": "21fddcea",
   "metadata": {},
   "outputs": [
    {
     "data": {
      "text/plain": [
       "array([0])"
      ]
     },
     "execution_count": 13,
     "metadata": {},
     "output_type": "execute_result"
    }
   ],
   "source": [
    "np.argmax(predict, axis=1)"
   ]
  },
  {
   "cell_type": "code",
   "execution_count": null,
   "id": "6fc6e192",
   "metadata": {},
   "outputs": [],
   "source": []
  }
 ],
 "metadata": {
  "kernelspec": {
   "display_name": "Python 3 (ipykernel)",
   "language": "python",
   "name": "python3"
  },
  "language_info": {
   "codemirror_mode": {
    "name": "ipython",
    "version": 3
   },
   "file_extension": ".py",
   "mimetype": "text/x-python",
   "name": "python",
   "nbconvert_exporter": "python",
   "pygments_lexer": "ipython3",
   "version": "3.8.10"
  }
 },
 "nbformat": 4,
 "nbformat_minor": 5
}
