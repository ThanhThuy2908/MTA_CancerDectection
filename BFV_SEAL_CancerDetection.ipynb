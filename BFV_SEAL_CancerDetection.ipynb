{
 "cells": [
  {
   "cell_type": "code",
   "execution_count": 1,
   "id": "0cb22418",
   "metadata": {
    "colab": {
     "base_uri": "https://localhost:8080/"
    },
    "id": "0cb22418",
    "outputId": "a2ecad18-284f-48c2-c472-780f4f5c223d"
   },
   "outputs": [
    {
     "name": "stderr",
     "output_type": "stream",
     "text": [
      "2022-03-19 06:51:02.883733: W tensorflow/stream_executor/platform/default/dso_loader.cc:64] Could not load dynamic library 'libcudart.so.11.0'; dlerror: libcudart.so.11.0: cannot open shared object file: No such file or directory\n",
      "2022-03-19 06:51:02.883767: I tensorflow/stream_executor/cuda/cudart_stub.cc:29] Ignore above cudart dlerror if you do not have a GPU set up on your machine.\n"
     ]
    },
    {
     "name": "stdout",
     "output_type": "stream",
     "text": [
      "WARNING:tensorflow:From /home/thuy/.local/lib/python3.8/site-packages/tensorflow/python/compat/v2_compat.py:111: disable_resource_variables (from tensorflow.python.ops.variable_scope) is deprecated and will be removed in a future version.\n",
      "Instructions for updating:\n",
      "non-resource variables are not supported in the long term\n"
     ]
    }
   ],
   "source": [
    "import numpy as np\n",
    "import pandas as pd\n",
    "\n",
    "# import tensorflow as tf\n",
    "import tensorflow.compat.v1 as tf\n",
    "tf.disable_v2_behavior()\n",
    "from sklearn.preprocessing import StandardScaler\n",
    "from sklearn.model_selection import train_test_split\n",
    "from sklearn import metrics\n",
    "\n",
    "import os\n",
    "import sys\n",
    "import shutil\n",
    "\n",
    "from sklearn.datasets import load_breast_cancer\n",
    "from wrapper import t_list"
   ]
  },
  {
   "cell_type": "markdown",
   "id": "1_5vtWIZUQhB",
   "metadata": {
    "id": "1_5vtWIZUQhB"
   },
   "source": [
    "Read the data and check it"
   ]
  },
  {
   "cell_type": "code",
   "execution_count": 2,
   "id": "fLL4_HYOWz9x",
   "metadata": {
    "id": "fLL4_HYOWz9x"
   },
   "outputs": [],
   "source": [
    "data = load_breast_cancer()\n",
    "# target = 1 - data.target\n",
    "\n",
    "# MUST reshape target (y) to be list of lists for TensorFlow \n",
    "target = data.target.reshape(-1,1)"
   ]
  },
  {
   "cell_type": "code",
   "execution_count": 3,
   "id": "SKmSZhgggMqu",
   "metadata": {
    "id": "SKmSZhgggMqu"
   },
   "outputs": [],
   "source": [
    "temp = np.zeros(target.size)\n",
    "target = np.insert(target, 0, temp, axis=1)\n",
    "for i in range(len(target)):\n",
    "  target[i][0] = 1 - target[i][1]"
   ]
  },
  {
   "cell_type": "code",
   "execution_count": 4,
   "id": "I_Hb4D5US0Uw",
   "metadata": {
    "colab": {
     "base_uri": "https://localhost:8080/"
    },
    "id": "I_Hb4D5US0Uw",
    "outputId": "418689c2-b81d-4d87-c317-99c77a1c17bb"
   },
   "outputs": [
    {
     "name": "stdout",
     "output_type": "stream",
     "text": [
      "[0 0 0 0 0 0 0 0 0 0 0 0 0 0 0 0 0 0 0 1 1 1 0 0 0 0 0 0 0 0 0 0 0 0 0 0 0\n",
      " 1 0 0 0 0 0 0 0 0 1 0 1 1 1 1 1 0 0 1 0 0 1 1 1 1 0 1 0 0 1 1 1 1 0 1 0 0\n",
      " 1 0 1 0 0 1 1 1 0 0 1 0 0 0 1 1 1 0 1 1 0 0 1 1 1 0 0 1 1 1 1 0 1 1 0 1 1\n",
      " 1 1 1 1 1 1 0 0 0 1 0 0 1 1 1 0 0 1 0 1 0 0 1 0 0 1 1 0 1 1 0 1 1 1 1 0 1\n",
      " 1 1 1 1 1 1 1 1 0 1 1 1 1 0 0 1 0 1 1 0 0 1 1 0 0 1 1 1 1 0 1 1 0 0 0 1 0\n",
      " 1 0 1 1 1 0 1 1 0 0 1 0 0 0 0 1 0 0 0 1 0 1 0 1 1 0 1 0 0 0 0 1 1 0 0 1 1\n",
      " 1 0 1 1 1 1 1 0 0 1 1 0 1 1 0 0 1 0 1 1 1 1 0 1 1 1 1 1 0 1 0 0 0 0 0 0 0\n",
      " 0 0 0 0 0 0 0 1 1 1 1 1 1 0 1 0 1 1 0 1 1 0 1 0 0 1 1 1 1 1 1 1 1 1 1 1 1\n",
      " 1 0 1 1 0 1 0 1 1 1 1 1 1 1 1 1 1 1 1 1 1 0 1 1 1 0 1 0 1 1 1 1 0 0 0 1 1\n",
      " 1 1 0 1 0 1 0 1 1 1 0 1 1 1 1 1 1 1 0 0 0 1 1 1 1 1 1 1 1 1 1 1 0 0 1 0 0\n",
      " 0 1 0 0 1 1 1 1 1 0 1 1 1 1 1 0 1 1 1 0 1 1 0 0 1 1 1 1 1 1 0 1 1 1 1 1 1\n",
      " 1 0 1 1 1 1 1 0 1 1 0 1 1 1 1 1 1 1 1 1 1 1 1 0 1 0 0 1 0 1 1 1 1 1 0 1 1\n",
      " 0 1 0 1 1 0 1 0 1 1 1 1 1 1 1 1 0 0 1 1 1 1 1 1 0 1 1 1 1 1 1 1 1 1 1 0 1\n",
      " 1 1 1 1 1 1 0 1 0 1 1 0 1 1 1 1 1 0 0 1 0 1 0 1 1 1 1 1 0 1 1 0 1 0 1 0 0\n",
      " 1 1 1 0 1 1 1 1 1 1 1 1 1 1 1 0 1 0 0 1 1 1 1 1 1 1 1 1 1 1 1 1 1 1 1 1 1\n",
      " 1 1 1 1 1 1 1 0 0 0 0 0 0 1]\n"
     ]
    }
   ],
   "source": [
    "print(data.target)"
   ]
  },
  {
   "cell_type": "code",
   "execution_count": 5,
   "id": "2SZ-hfundNCX",
   "metadata": {
    "id": "2SZ-hfundNCX"
   },
   "outputs": [],
   "source": [
    "# Split the dataset into train and test sets\n",
    "X_train, X_test, y_train, y_test = train_test_split(data.data, target)"
   ]
  },
  {
   "cell_type": "code",
   "execution_count": 6,
   "id": "Bt6JhPOGdVEx",
   "metadata": {
    "id": "Bt6JhPOGdVEx"
   },
   "outputs": [],
   "source": [
    "ss = StandardScaler()\n",
    "X_train = ss.fit_transform(X_train)\n",
    "X_test = ss.transform(X_test)"
   ]
  },
  {
   "cell_type": "code",
   "execution_count": 9,
   "id": "Bdhn77kBtSC_",
   "metadata": {
    "colab": {
     "base_uri": "https://localhost:8080/"
    },
    "id": "Bdhn77kBtSC_",
    "outputId": "1cb1a43c-c640-4141-eceb-758a23fb6a1d"
   },
   "outputs": [
    {
     "data": {
      "text/plain": [
       "array([[0, 1],\n",
       "       [0, 1],\n",
       "       [0, 1]])"
      ]
     },
     "execution_count": 9,
     "metadata": {},
     "output_type": "execute_result"
    }
   ],
   "source": [
    "y_train[:3]"
   ]
  },
  {
   "cell_type": "code",
   "execution_count": 8,
   "id": "3fJ1QZ4Vdg_C",
   "metadata": {
    "id": "3fJ1QZ4Vdg_C"
   },
   "outputs": [],
   "source": [
    "# shape None == allow dynamic number of rows; X_train.shape[1] == number of features\n",
    "X = tf.placeholder(dtype=tf.float32, shape=(None, X_train.shape[1]), name='inputs')\n",
    "y = tf.placeholder(dtype=tf.float32, shape=(None, 2), name='targets')"
   ]
  },
  {
   "cell_type": "code",
   "execution_count": 9,
   "id": "eVytvr9pdtCK",
   "metadata": {
    "colab": {
     "base_uri": "https://localhost:8080/"
    },
    "id": "eVytvr9pdtCK",
    "outputId": "4f528083-a099-4c83-80ac-db2ef70b2424"
   },
   "outputs": [
    {
     "name": "stderr",
     "output_type": "stream",
     "text": [
      "/usr/local/lib/python3.7/dist-packages/ipykernel_launcher.py:3: UserWarning: `tf.layers.dense` is deprecated and will be removed in a future version. Please use `tf.keras.layers.Dense` instead.\n",
      "  This is separate from the ipykernel package so we can avoid doing imports until\n",
      "/usr/local/lib/python3.7/dist-packages/keras/legacy_tf_layers/core.py:261: UserWarning: `layer.apply` is deprecated and will be removed in a future version. Please use `layer.__call__` method instead.\n",
      "  return layer.apply(inputs)\n",
      "/usr/local/lib/python3.7/dist-packages/ipykernel_launcher.py:7: UserWarning: `tf.layers.dense` is deprecated and will be removed in a future version. Please use `tf.keras.layers.Dense` instead.\n",
      "  import sys\n",
      "/usr/local/lib/python3.7/dist-packages/ipykernel_launcher.py:10: UserWarning: `tf.layers.dense` is deprecated and will be removed in a future version. Please use `tf.keras.layers.Dense` instead.\n",
      "  # Remove the CWD from sys.path while we load stuff.\n"
     ]
    }
   ],
   "source": [
    "# First hidden layer\n",
    "# X == features coming in, 30 == number of features == neurons\n",
    "h1 = tf.layers.dense(X, 30, name='dense1')\n",
    "h1 = h1 * h1\n",
    "# Second hidden layer\n",
    "# h1 == features coming in, 26 == number of neurons == arbitrary\n",
    "h2 = tf.layers.dense(h1, 16, name='dense2')\n",
    "h2 = h2 * h2\n",
    "# Last/output layar always has 1 neuron for binary classification problems\n",
    "model1 = tf.layers.dense(h2, 2, name='dense3')\n",
    "\n",
    "model = tf.sigmoid(model1, name='sigmoid')\n",
    "# model = approx_sigmoid(model)"
   ]
  },
  {
   "cell_type": "code",
   "execution_count": 10,
   "id": "WxeA8h4XgZuc",
   "metadata": {
    "id": "WxeA8h4XgZuc"
   },
   "outputs": [],
   "source": [
    "loss = tf.losses.log_loss(y, model)\n",
    "\n",
    "# Define training operation\n",
    "training_op = tf.train.AdamOptimizer(.01).minimize(loss)"
   ]
  },
  {
   "cell_type": "code",
   "execution_count": 11,
   "id": "2Kzkv3CAgdId",
   "metadata": {
    "colab": {
     "base_uri": "https://localhost:8080/"
    },
    "id": "2Kzkv3CAgdId",
    "outputId": "a47ec9e4-9866-485d-ec02-dc204fae0fd4"
   },
   "outputs": [
    {
     "name": "stdout",
     "output_type": "stream",
     "text": [
      "epoch: 0  | training loss: 2.1110342  | test loss: 1.811138\n",
      "epoch: 100  | training loss: 0.018520424  | test loss: 0.10829572\n",
      "epoch: 200  | training loss: 0.0034699866  | test loss: 0.0101616895\n",
      "epoch: 300  | training loss: 0.0003387788  | test loss: 0.11511777\n",
      "epoch: 400  | training loss: 0.00011520336  | test loss: 0.11436793\n",
      "epoch: 500  | training loss: 5.8685848e-05  | test loss: 0.11405091\n",
      "epoch: 600  | training loss: 3.5654895e-05  | test loss: 0.11387037\n",
      "epoch: 700  | training loss: 2.394163e-05  | test loss: 0.11374816\n",
      "epoch: 800  | training loss: 1.715325e-05  | test loss: 0.11365764\n",
      "epoch: 900  | training loss: 1.2860967e-05  | test loss: 0.113586545\n",
      "Accuracy: 0.993007\n",
      "Accuracy without sigmoid:  0.993007\n"
     ]
    }
   ],
   "source": [
    "# Initialize\n",
    "init = tf.global_variables_initializer()\n",
    "saver = tf.train.Saver()\n",
    "\n",
    "with tf.Session() as sess:\n",
    "    init.run()\n",
    "    # Train model with 1000 epochs\n",
    "    # saver.restore(sess, '/content/drive/MyDrive/Colab Notebooks/result/nn_data/net-1000')\n",
    "    for epoch in range(1000):\n",
    "        sess.run(training_op, feed_dict={X: X_train, y: y_train})\n",
    "        if (epoch % 100 == 0):\n",
    "            training_loss = sess.run(loss, feed_dict={X: X_train, y: y_train})\n",
    "            test_loss = sess.run(loss, feed_dict={X: X_test, y: y_test})\n",
    "            print('epoch:',epoch,' | training loss:', training_loss, ' | test loss:', test_loss)\n",
    "    saved_path = saver.save(sess, '/content/drive/MyDrive/Colab Notebooks/result/nn_data/net', global_step=1000)\n",
    "\n",
    "    # # Use model to classify test data\n",
    "    # classifications_on_test_data = sess.run(model, feed_dict={X: X_test})\n",
    "    \n",
    "    # # Check model accuracy\n",
    "    # classes = (classifications_on_test_data > .5).astype(int)\n",
    "    \n",
    "    # print('\\nAccuracy Score:',metrics.accuracy_score(y_test, classes))\n",
    "    \n",
    "    predictions = tf.equal(tf.argmax(model, 1), tf.argmax(y, 1))\n",
    "    accuracy = tf.reduce_mean(tf.cast(predictions, \"float\"))\n",
    "    print(\"Accuracy:\", accuracy.eval({X: X_test, y: y_test}))\n",
    "    no_sig_predictions = tf.equal(tf.argmax(model1, 1), tf.argmax(y, 1))\n",
    "    no_sig_accuracy = tf.reduce_mean(tf.cast(no_sig_predictions, \"float\"))\n",
    "    print('Accuracy without sigmoid: ', no_sig_accuracy.eval({X: X_test, y: y_test}))"
   ]
  },
  {
   "cell_type": "code",
   "execution_count": 12,
   "id": "BJ2xApyPhJBF",
   "metadata": {
    "colab": {
     "base_uri": "https://localhost:8080/"
    },
    "id": "BJ2xApyPhJBF",
    "outputId": "5d10827a-7f0e-4795-a91d-7eb41e3affea"
   },
   "outputs": [
    {
     "name": "stdout",
     "output_type": "stream",
     "text": [
      "INFO:tensorflow:Restoring parameters from /content/drive/MyDrive/Colab Notebooks/result/nn_data/net-1000\n"
     ]
    }
   ],
   "source": [
    "# Restore session\n",
    "with tf.Session() as sess:\n",
    "\tsaver.restore(sess, '/content/drive/MyDrive/Colab Notebooks/result/nn_data/net-1000')\n",
    "\twith tf.variable_scope('dense1', reuse=True):\n",
    "\t\tdense1_kernel_ = sess.run(tf.get_variable('kernel'))\n",
    "\t\tdense1_bias_ = sess.run(tf.get_variable('bias'))\n",
    "\twith tf.variable_scope('dense2', reuse=True):\n",
    "\t\tdense2_kernel_ = sess.run(tf.get_variable('kernel'))\n",
    "\t\tdense2_bias_ = sess.run(tf.get_variable('bias'))\n",
    "\twith tf.variable_scope('dense3', reuse=True):\n",
    "\t\tdense3_kernel_ = sess.run(tf.get_variable('kernel'))\n",
    "\t\tdense3_bias_ = sess.run(tf.get_variable('bias'))\n",
    "\tencoded_input_ = X.eval({X: X_test})\n"
   ]
  },
  {
   "cell_type": "code",
   "execution_count": 13,
   "id": "oQZOvU32ufFP",
   "metadata": {
    "colab": {
     "base_uri": "https://localhost:8080/"
    },
    "id": "oQZOvU32ufFP",
    "outputId": "831150eb-2f5a-4899-9b82-cb8f83cf7cbf"
   },
   "outputs": [
    {
     "name": "stdout",
     "output_type": "stream",
     "text": [
      "(30, 30)\n",
      "(30,)\n",
      "(30, 16)\n",
      "(16,)\n",
      "(16, 2)\n",
      "(2,)\n",
      "(143, 30)\n"
     ]
    }
   ],
   "source": [
    "print(dense1_kernel_.shape)\n",
    "print(dense1_bias_.shape)\n",
    "print(dense2_kernel_.shape)\n",
    "print(dense2_bias_.shape)\n",
    "print(dense3_kernel_.shape)\n",
    "print(dense3_bias_.shape)\n",
    "print(encoded_input_.shape)"
   ]
  },
  {
   "cell_type": "code",
   "execution_count": 14,
   "id": "ivhtfUsWHl9e",
   "metadata": {
    "colab": {
     "base_uri": "https://localhost:8080/"
    },
    "id": "ivhtfUsWHl9e",
    "outputId": "17ea3a7c-2ea4-4308-cbfa-a481f4d90d8d"
   },
   "outputs": [
    {
     "name": "stdout",
     "output_type": "stream",
     "text": [
      "[ 0.39901814  0.39033818  0.27939475  0.1041426  -0.18819362  0.3307806\n",
      " -0.02089274  0.04844764 -0.10049819  0.1753007   0.10164098  0.20087226\n",
      " -0.16394982 -0.3347039   0.06442084 -0.01684365  0.6264294   0.01560036\n",
      "  0.07622899  0.27103776 -0.24290802  0.29808217  0.45932454  0.62576675\n",
      "  0.4768393   0.60360014  0.4922177  -0.10033296 -0.01800084 -0.50886476]\n"
     ]
    }
   ],
   "source": [
    "print(dense1_bias_)"
   ]
  },
  {
   "cell_type": "markdown",
   "id": "zThEhU--dWgx",
   "metadata": {
    "id": "zThEhU--dWgx"
   },
   "source": [
    "TEST INFERE PLAIN FLOAT"
   ]
  },
  {
   "cell_type": "code",
   "execution_count": 15,
   "id": "qdXmmfgYfOJ_",
   "metadata": {
    "id": "qdXmmfgYfOJ_"
   },
   "outputs": [],
   "source": [
    "input_size = encoded_input_.shape[0]\n",
    "# lk1 = np.empty(shape=(input_size,1,30), dtype=np.float32)  #layer1 kernel\n",
    "# lb1 = np.empty(shape=(input_size,1,30), dtype=np.float32)  #layer1 kernel\n",
    "# lk2 = np.empty(shape=(input_size,1,16), dtype=np.float32)  #layer1 kernel\n",
    "# lb2 = np.empty(shape=(input_size,1,16), dtype=np.float32)  #layer1 kernel\n",
    "# lk3 = np.empty(shape=(input_size,1,2), dtype=np.float32)  #layer1 kernel\n",
    "# lb3 = np.empty(shape=(input_size,1,2), dtype=np.float32)  #layer1 kernel\n",
    "x= np.empty((input_size,2), dtype=np.float32)"
   ]
  },
  {
   "cell_type": "code",
   "execution_count": 16,
   "id": "_u24itkceJrg",
   "metadata": {
    "id": "_u24itkceJrg"
   },
   "outputs": [],
   "source": [
    "for i in range(encoded_input_.shape[0]):\n",
    "  temp = encoded_input_[i]\n",
    "  temp = temp.dot(dense1_kernel_) + dense1_bias_\n",
    "  temp = temp*temp\n",
    "  temp = temp.dot(dense2_kernel_) + dense2_bias_\n",
    "  temp = temp*temp\n",
    "  temp = temp.dot(dense3_kernel_) + dense3_bias_ \n",
    "  x[i,...] = temp"
   ]
  },
  {
   "cell_type": "code",
   "execution_count": 17,
   "id": "S4DIxr48g0jo",
   "metadata": {
    "colab": {
     "base_uri": "https://localhost:8080/"
    },
    "id": "S4DIxr48g0jo",
    "outputId": "44834a96-c923-4d78-a5a6-be06216becd2"
   },
   "outputs": [
    {
     "data": {
      "text/plain": [
       "array([[ -74.80376 ,   70.84687 ],\n",
       "       [-130.59613 ,  139.04857 ],\n",
       "       [ 144.01039 , -117.44549 ],\n",
       "       [-206.75774 ,  256.84366 ],\n",
       "       [ -75.45079 ,   87.78855 ],\n",
       "       [  65.972046,  -84.338196],\n",
       "       [ -82.49044 ,   93.963615],\n",
       "       [ -16.7606  ,   20.088055],\n",
       "       [-144.30164 ,  164.8063  ],\n",
       "       [-103.07791 ,  118.61449 ],\n",
       "       [-211.55615 ,  228.37337 ],\n",
       "       [ -20.406942,   24.542212],\n",
       "       [-261.75775 ,  302.21622 ],\n",
       "       [-188.16423 ,  219.1301  ],\n",
       "       [ -49.620377,   53.882862],\n",
       "       [  18.95289 ,  -21.896896],\n",
       "       [-855.06195 ,  984.6558  ],\n",
       "       [ -20.621643,   24.800869],\n",
       "       [  69.303024,  -84.56096 ],\n",
       "       [-162.17253 ,  218.78363 ]], dtype=float32)"
      ]
     },
     "execution_count": 17,
     "metadata": {},
     "output_type": "execute_result"
    }
   ],
   "source": [
    "x[:20]"
   ]
  },
  {
   "cell_type": "code",
   "execution_count": 18,
   "id": "HiJACzxBjO27",
   "metadata": {
    "colab": {
     "base_uri": "https://localhost:8080/"
    },
    "id": "HiJACzxBjO27",
    "outputId": "eca5cb59-edf6-4805-b52c-0b226ac0eb4f"
   },
   "outputs": [
    {
     "name": "stdout",
     "output_type": "stream",
     "text": [
      "(143,)\n",
      "INFO:tensorflow:Restoring parameters from /content/drive/MyDrive/Colab Notebooks/result/nn_data/net-1000\n",
      "accuracy float 0.993007\n"
     ]
    }
   ],
   "source": [
    "saver = tf.train.Saver()\n",
    "x = np.argmax(x, axis=1)\n",
    "print(x.shape)\n",
    "# PRINT ACCURACIES\n",
    "with tf.Session() as sess:\n",
    "\tsaver.restore(sess, '/content/drive/MyDrive/Colab Notebooks/result/nn_data/net-1000')\n",
    "\n",
    "\tpredictions = tf.equal(x, tf.argmax(y, 1))\n",
    "\tcn_accuracy = tf.reduce_mean(tf.cast(predictions, \"float\"))\n",
    "\n",
    "\tprint(\"accuracy float\", cn_accuracy.eval({X: X_test, y: y_test}))"
   ]
  },
  {
   "cell_type": "code",
   "execution_count": 19,
   "id": "QyJ5eNyDkY_7",
   "metadata": {
    "id": "QyJ5eNyDkY_7"
   },
   "outputs": [],
   "source": [
    "# Declare the outputs\n",
    "input_size = encoded_input_.shape[0]\n",
    "encoded_input = np.empty(shape=(input_size,30,5), dtype=np.uint64)\n",
    "dense1_kernel = np.empty(shape=(30,30,5), dtype=np.uint64)\n",
    "dense1_bias = np.empty(shape=(30,5), dtype=np.uint64)\n",
    "dense2_kernel = np.empty(shape=(30,16,5), dtype=np.uint64)\n",
    "dense2_bias = np.empty(shape=(16,5), dtype=np.uint64)\n",
    "dense3_kernel = np.empty(shape=(16,2,5), dtype=np.uint64)\n",
    "dense3_bias = np.empty(shape=(2,5), dtype=np.uint64)"
   ]
  },
  {
   "cell_type": "markdown",
   "id": "hhKH566Ov274",
   "metadata": {
    "id": "hhKH566Ov274"
   },
   "source": [
    "\n",
    "# Pre-encoding of the Neural Networks weights and the input data. Pre-encoding means\n",
    "# converting float numbers n to int((n * precision) % t_i), where t_i are the plain moduli.\n"
   ]
  },
  {
   "cell_type": "code",
   "execution_count": 20,
   "id": "Q0XF0a6vpksK",
   "metadata": {
    "colab": {
     "base_uri": "https://localhost:8080/"
    },
    "id": "Q0XF0a6vpksK",
    "outputId": "a7fcd89d-e6d0-4cc4-d1bf-2d5d29b57fc6"
   },
   "outputs": [
    {
     "name": "stdout",
     "output_type": "stream",
     "text": [
      "Weights processing...\n",
      "Done.\n"
     ]
    }
   ],
   "source": [
    "# WEIGHTS\n",
    "print(\"Weights processing...\")\n",
    "precision = 10\n",
    "for i in range(30):\n",
    "\tfor j in range(30):\n",
    "\t\tvalue = round(dense1_kernel_[i, j].item()*precision)\n",
    "\t\tfor t in range(5):\n",
    "\t\t\tdense1_kernel[i, j, t] = value % t_list[t]\n",
    "\n",
    "for i in range(30):\n",
    "\tfor j in range(16):\n",
    "\t\tvalue = round(dense2_kernel_[i, j].item()*precision)\n",
    "\t\tfor t in range(5):\n",
    "\t\t\tdense2_kernel[i, j, t] = value % t_list[t]\n",
    "\n",
    "for i in range(16):\n",
    "\tfor j in range(2):\n",
    "\t\tvalue = round(dense3_kernel_[i, j].item()*precision)\n",
    "\t\tfor t in range(5):\n",
    "\t\t\tdense3_kernel[i, j, t] = value % t_list[t]\n",
    "\n",
    "for i in range(30):\n",
    "\tvalue = round(dense1_bias_[i].item()*(precision**2))\n",
    "\tfor t in range(5):\n",
    "\t\tdense1_bias[i, t] = value % t_list[t]\n",
    "\n",
    "for i in range(16):\n",
    "\tvalue = round(dense2_bias_[i].item()*(precision**5))\n",
    "\tfor t in range(5):\n",
    "\t\tdense2_bias[i, t] = value % t_list[t]\n",
    "\n",
    "for i in range(2):\n",
    "\tvalue = round(dense3_bias_[i].item()*(precision**11))\n",
    "\tfor t in range(5):\n",
    "\t\tdense3_bias[i, t] = value % t_list[t]\n",
    "\n",
    "print(\"Done.\")"
   ]
  },
  {
   "cell_type": "code",
   "execution_count": 21,
   "id": "R6Ch-vFZwo4X",
   "metadata": {
    "colab": {
     "base_uri": "https://localhost:8080/"
    },
    "id": "R6Ch-vFZwo4X",
    "outputId": "61bffbb5-afb8-4fb1-f0a4-253625be1309"
   },
   "outputs": [
    {
     "name": "stdout",
     "output_type": "stream",
     "text": [
      "39902\n"
     ]
    }
   ],
   "source": [
    "print(round(dense1_bias_[0].item()*(precision**5))%40961)"
   ]
  },
  {
   "cell_type": "code",
   "execution_count": 22,
   "id": "JMq9cdo4w_yM",
   "metadata": {
    "colab": {
     "base_uri": "https://localhost:8080/"
    },
    "id": "JMq9cdo4w_yM",
    "outputId": "dd7c8fc5-d0af-4728-fdb3-ea118f990a79"
   },
   "outputs": [
    {
     "name": "stdout",
     "output_type": "stream",
     "text": [
      "Input processing...\n"
     ]
    }
   ],
   "source": [
    "# INPUT\n",
    "print(\"Input processing...\")\n",
    "for i in range(input_size):\n",
    "\tfor j in range(30):\n",
    "\t\t\tvalue = round(encoded_input_[i,j].item()*precision)\n",
    "\t\t\tfor t in range(5):\n",
    "\t\t\t\tencoded_input[i,j,t] = value % t_list[t]"
   ]
  },
  {
   "cell_type": "code",
   "execution_count": 23,
   "id": "_OCIOj6zxn-c",
   "metadata": {
    "colab": {
     "base_uri": "https://localhost:8080/"
    },
    "id": "_OCIOj6zxn-c",
    "outputId": "f708429f-1d0d-4a34-b8e4-1e2caeea490c"
   },
   "outputs": [
    {
     "name": "stdout",
     "output_type": "stream",
     "text": [
      "Tensors stored\n"
     ]
    }
   ],
   "source": [
    "\n",
    "# Store the encoded tensors\n",
    "np.save(\"/content/drive/MyDrive/Colab Notebooks/result/output_data/plain_layer_0\", encoded_input)\n",
    "np.save(\"/content/drive/MyDrive/Colab Notebooks/result/nn_data/dense1_kernel\", dense1_kernel)\n",
    "np.save(\"/content/drive/MyDrive/Colab Notebooks/result/nn_data/dense1_bias\", dense1_bias)\n",
    "np.save(\"/content/drive/MyDrive/Colab Notebooks/result/nn_data/dense2_kernel\", dense2_kernel)\n",
    "np.save(\"/content/drive/MyDrive/Colab Notebooks/result/nn_data/dense2_bias\", dense2_bias)\n",
    "np.save(\"/content/drive/MyDrive/Colab Notebooks/result/nn_data/dense3_kernel\", dense3_kernel)\n",
    "np.save(\"/content/drive/MyDrive/Colab Notebooks/result/nn_data/dense3_bias\", dense3_bias)\n",
    "\n",
    "print(\"Tensors stored\")"
   ]
  },
  {
   "cell_type": "markdown",
   "id": "TM91is0H4jeE",
   "metadata": {
    "id": "TM91is0H4jeE"
   },
   "source": [
    "INFERE_PLAIN.PY"
   ]
  },
  {
   "cell_type": "markdown",
   "id": "JVq1bqOV9Ca4",
   "metadata": {
    "id": "JVq1bqOV9Ca4"
   },
   "source": [
    "\n",
    "# Inference with integers mod t_i. Use of the Chinese Remainder Theorem to encode large numbers.\n"
   ]
  },
  {
   "cell_type": "code",
   "execution_count": 24,
   "id": "fj_jLJpQ4onO",
   "metadata": {
    "id": "fj_jLJpQ4onO"
   },
   "outputs": [],
   "source": [
    "import numpy as np\n",
    "from wrapper import t_list\n",
    "\n",
    "t_size = len(t_list)"
   ]
  },
  {
   "cell_type": "code",
   "execution_count": 25,
   "id": "4MEcADNQ43qE",
   "metadata": {
    "id": "4MEcADNQ43qE"
   },
   "outputs": [],
   "source": [
    "# WEIGHTS\n",
    "dense1_kernel = np.load(\"/content/drive/MyDrive/Colab Notebooks/result/nn_data/dense1_kernel.npy\")\n",
    "dense1_bias = np.load(\"/content/drive/MyDrive/Colab Notebooks/result/nn_data/dense1_bias.npy\")\n",
    "dense2_kernel = np.load(\"/content/drive/MyDrive/Colab Notebooks/result/nn_data/dense2_kernel.npy\")\n",
    "dense2_bias = np.load(\"/content/drive/MyDrive/Colab Notebooks/result/nn_data/dense2_bias.npy\")\n",
    "dense3_kernel = np.load(\"/content/drive/MyDrive/Colab Notebooks/result/nn_data/dense3_kernel.npy\")\n",
    "dense3_bias = np.load(\"/content/drive/MyDrive/Colab Notebooks/result/nn_data/dense3_bias.npy\")"
   ]
  },
  {
   "cell_type": "code",
   "execution_count": 26,
   "id": "pkpsYr_k5COR",
   "metadata": {
    "id": "pkpsYr_k5COR"
   },
   "outputs": [],
   "source": [
    "plain_input = np.load(\"/content/drive/MyDrive/Colab Notebooks/result/output_data/plain_layer_0.npy\")\n",
    "examples_count = plain_input.shape[0]\n",
    "plain_output = np.empty((examples_count,30,5), dtype=np.uint64)"
   ]
  },
  {
   "cell_type": "code",
   "execution_count": 27,
   "id": "4olgjbsF5j32",
   "metadata": {
    "colab": {
     "base_uri": "https://localhost:8080/"
    },
    "id": "4olgjbsF5j32",
    "outputId": "56717537-3483-41ff-9cfc-00774318f1de"
   },
   "outputs": [
    {
     "name": "stdout",
     "output_type": "stream",
     "text": [
      "Computing layer 1/5...\n"
     ]
    }
   ],
   "source": [
    "# LAYER 1: dense1\n",
    "print(\"Computing layer 1/5...\")\n",
    "temp = np.empty((examples_count,30,t_size), dtype=np.uint64)\n",
    "for t_index in range(t_size):\n",
    "\ttemp[...,t_index] = (plain_input[...,t_index].dot(dense1_kernel[...,t_index])) % t_list[t_index]\n",
    "\ttemp[...,t_index] = (temp[...,t_index] + dense1_bias[...,t_index]) % t_list[t_index]\n",
    "plain_output = temp\n",
    "temp = None\n",
    "np.save(\"/content/drive/MyDrive/Colab Notebooks/result/output_data/plain_layer_1\", plain_output)"
   ]
  },
  {
   "cell_type": "code",
   "execution_count": 28,
   "id": "fuopN9LfsxFZ",
   "metadata": {
    "colab": {
     "base_uri": "https://localhost:8080/"
    },
    "id": "fuopN9LfsxFZ",
    "outputId": "1db7ee98-707d-460f-870f-0b0b44bcd92b"
   },
   "outputs": [
    {
     "name": "stdout",
     "output_type": "stream",
     "text": [
      "Computing layer 2/5...\n"
     ]
    }
   ],
   "source": [
    "# LAYER 2: square activation function\n",
    "print(\"Computing layer 2/5...\")\n",
    "plain_output = plain_output*plain_output\n",
    "for t_index in range(t_size):\n",
    "\tplain_output[...,t_index] = plain_output[...,t_index] % t_list[t_index]\n",
    "np.save(\"/content/drive/MyDrive/Colab Notebooks/result/output_data/plain_layer_2\", plain_output)"
   ]
  },
  {
   "cell_type": "code",
   "execution_count": 29,
   "id": "3QCE_2Jf7P5W",
   "metadata": {
    "colab": {
     "base_uri": "https://localhost:8080/"
    },
    "id": "3QCE_2Jf7P5W",
    "outputId": "c508684e-0059-4178-b64c-71a88a7b3158"
   },
   "outputs": [
    {
     "name": "stdout",
     "output_type": "stream",
     "text": [
      "Computing layer 3/5...\n"
     ]
    }
   ],
   "source": [
    "# LAYER 3: dense2\n",
    "print(\"Computing layer 3/5...\")\n",
    "temp = np.empty((examples_count,16,t_size), dtype=np.uint64)\n",
    "for t_index in range(t_size):\n",
    "\ttemp[...,t_index] = (plain_output[...,t_index].dot(dense2_kernel[...,t_index])) % t_list[t_index]\n",
    "\ttemp[...,t_index] = (temp[...,t_index] + dense2_bias[...,t_index]) % t_list[t_index]\n",
    "plain_output = temp\n",
    "temp = None\n",
    "np.save(\"/content/drive/MyDrive/Colab Notebooks/result/output_data/plain_layer_3\", plain_output)"
   ]
  },
  {
   "cell_type": "code",
   "execution_count": 30,
   "id": "RKnI54REtSqC",
   "metadata": {
    "colab": {
     "base_uri": "https://localhost:8080/"
    },
    "id": "RKnI54REtSqC",
    "outputId": "b90c3ba7-8af3-4837-e99f-2a5adcd73d92"
   },
   "outputs": [
    {
     "name": "stdout",
     "output_type": "stream",
     "text": [
      "Computing layer 4/5...\n"
     ]
    }
   ],
   "source": [
    "# LAYER 4: square activation function\n",
    "print(\"Computing layer 4/5...\")\n",
    "plain_output = plain_output*plain_output\n",
    "for t_index in range(t_size):\n",
    "\tplain_output[...,t_index] = plain_output[...,t_index] % t_list[t_index]\n",
    "np.save(\"/content/drive/MyDrive/Colab Notebooks/result/output_data/plain_layer_4\", plain_output)"
   ]
  },
  {
   "cell_type": "code",
   "execution_count": 31,
   "id": "XREHD3D17v61",
   "metadata": {
    "colab": {
     "base_uri": "https://localhost:8080/"
    },
    "id": "XREHD3D17v61",
    "outputId": "642e0794-a825-4893-d8f5-c81d0b56b2ec"
   },
   "outputs": [
    {
     "name": "stdout",
     "output_type": "stream",
     "text": [
      "Computing layer 5/5...\n"
     ]
    }
   ],
   "source": [
    "# LAYER 5: dense3\n",
    "print(\"Computing layer 5/5...\")\n",
    "temp = np.empty((examples_count,2,t_size), dtype=np.uint64)\n",
    "for t_index in range(t_size):\n",
    "\ttemp[...,t_index] = (plain_output[...,t_index].dot(dense3_kernel[...,t_index])) % t_list[t_index]\n",
    "\ttemp[...,t_index] = (temp[...,t_index] + dense3_bias[...,t_index]) % t_list[t_index]\n",
    "plain_output = temp\n",
    "temp = None\n",
    "np.save(\"/content/drive/MyDrive/Colab Notebooks/result/output_data/plain_layer_5\", plain_output)"
   ]
  },
  {
   "cell_type": "markdown",
   "id": "f3FrXQj18zBY",
   "metadata": {
    "id": "f3FrXQj18zBY"
   },
   "source": [
    "# INFERE_ENC.PY"
   ]
  },
  {
   "cell_type": "markdown",
   "id": "60JDOm229JNZ",
   "metadata": {
    "id": "60JDOm229JNZ"
   },
   "source": [
    "# Inference with encrypted messages mod q_i. Use of the Chinese Remainder Theorem\n",
    "# to encode large numbers."
   ]
  },
  {
   "cell_type": "code",
   "execution_count": 32,
   "id": "QX3JGKr486Wh",
   "metadata": {
    "id": "QX3JGKr486Wh"
   },
   "outputs": [],
   "source": [
    "import numpy as np\n",
    "from wrapper import SEAL"
   ]
  },
  {
   "cell_type": "code",
   "execution_count": 33,
   "id": "M4EXEicz9QNc",
   "metadata": {
    "id": "M4EXEicz9QNc"
   },
   "outputs": [],
   "source": [
    "# !git clone https://github.com/ThanhThuy2908/SEAL.git"
   ]
  },
  {
   "cell_type": "code",
   "execution_count": 34,
   "id": "79GeAz1d_9dW",
   "metadata": {
    "id": "79GeAz1d_9dW"
   },
   "outputs": [],
   "source": [
    "SEALobj = SEAL()\n",
    "q_list = SEALobj.q_list\n",
    "k_list = SEALobj.k_list\n",
    "n_parm = SEALobj.n_parm\n",
    "enc_poly_size = SEALobj.enc_poly_size\n",
    "q_size = len(q_list)\n",
    "t_size = len(SEALobj.t_list)"
   ]
  },
  {
   "cell_type": "code",
   "execution_count": 35,
   "id": "Ek3qn_5bAOV_",
   "metadata": {
    "id": "Ek3qn_5bAOV_"
   },
   "outputs": [],
   "source": [
    "def to_object_dtype(tensoreuint):\n",
    "\tshape = tensoreuint.shape\n",
    "\ttensoreuint.shape = (tensoreuint.size,)\n",
    "\tnew = np.empty((tensoreuint.size,), dtype=object)\n",
    "\tfor i in range(tensoreuint.size):\n",
    "\t\tnew[i] = int(tensoreuint[i].item())\n",
    "\tnew.shape = shape\n",
    "\treturn new"
   ]
  },
  {
   "cell_type": "code",
   "execution_count": 36,
   "id": "TNzsObmwgxDW",
   "metadata": {
    "id": "TNzsObmwgxDW"
   },
   "outputs": [],
   "source": [
    "# WEIGHTS\n",
    "dense1_kernel = np.load(\"/content/drive/MyDrive/Colab Notebooks/result/nn_data/dense1_kernel.npy\")\n",
    "dense1_bias = np.load(\"/content/drive/MyDrive/Colab Notebooks/result/nn_data/dense1_bias.npy\")\n",
    "dense2_kernel = np.load(\"/content/drive/MyDrive/Colab Notebooks/result/nn_data/dense2_kernel.npy\")\n",
    "dense2_bias = np.load(\"/content/drive/MyDrive/Colab Notebooks/result/nn_data/dense2_bias.npy\")\n",
    "dense3_kernel = np.load(\"/content/drive/MyDrive/Colab Notebooks/result/nn_data/dense3_kernel.npy\")\n",
    "dense3_bias = np.load(\"/content/drive/MyDrive/Colab Notebooks/result/nn_data/dense3_bias.npy\")\n"
   ]
  },
  {
   "cell_type": "code",
   "execution_count": 37,
   "id": "clI7w6hGhCX9",
   "metadata": {
    "colab": {
     "base_uri": "https://localhost:8080/"
    },
    "id": "clI7w6hGhCX9",
    "outputId": "f2946fab-6e4d-4e43-c7b6-1d48f0095cf6"
   },
   "outputs": [
    {
     "name": "stdout",
     "output_type": "stream",
     "text": [
      "Encrypting the input...\n"
     ]
    }
   ],
   "source": [
    "# INPUT AND OUTPUT DATA\n",
    "print(\"Encrypting the input...\")\n",
    "encrypted_input = np.load(\"/content/drive/MyDrive/Colab Notebooks/result/output_data/plain_layer_0.npy\") # not yet encrypted\n",
    "examples_count = encrypted_input.shape[0]\n",
    "encrypted_input = SEALobj.encrypt_tensor(encrypted_input) # now it is\n",
    "np.save(\"/content/drive/MyDrive/Colab Notebooks/result/output_data/enc_layer_0\", encrypted_input)\n",
    "poly_groups_count = encrypted_input.shape[0]//enc_poly_size\n",
    "encrypted_output = np.empty((encrypted_input.shape[0],30,t_size), dtype=np.uint64)\n",
    "\n"
   ]
  },
  {
   "cell_type": "code",
   "execution_count": 38,
   "id": "bowdwm5a4QwW",
   "metadata": {
    "colab": {
     "base_uri": "https://localhost:8080/"
    },
    "id": "bowdwm5a4QwW",
    "outputId": "03e758ba-3a2c-443a-b8f4-b538955e8eaf"
   },
   "outputs": [
    {
     "name": "stdout",
     "output_type": "stream",
     "text": [
      "(32776, 30, 5)\n"
     ]
    }
   ],
   "source": [
    "print(encrypted_output.shape)"
   ]
  },
  {
   "cell_type": "code",
   "execution_count": 39,
   "id": "rAKytCIo3OaM",
   "metadata": {
    "colab": {
     "base_uri": "https://localhost:8080/"
    },
    "id": "rAKytCIo3OaM",
    "outputId": "69e8fa62-55a9-46bf-d583-f12a79ac3132"
   },
   "outputs": [
    {
     "name": "stdout",
     "output_type": "stream",
     "text": [
      "(32776, 30, 5)\n"
     ]
    }
   ],
   "source": [
    "print(encrypted_input.shape)"
   ]
  },
  {
   "cell_type": "code",
   "execution_count": 40,
   "id": "6ARQhh_-jN5u",
   "metadata": {
    "colab": {
     "base_uri": "https://localhost:8080/"
    },
    "id": "6ARQhh_-jN5u",
    "outputId": "d3bfda4d-0f9a-447d-af7c-578f241066e3"
   },
   "outputs": [
    {
     "name": "stdout",
     "output_type": "stream",
     "text": [
      "Computing layer 1/5...\n"
     ]
    }
   ],
   "source": [
    "# LAYER 1: fully connected layer\n",
    "print(\"Computing layer 1/5...\")\n",
    "encrypted_output = to_object_dtype(encrypted_input)\n",
    "dense1_kernel = to_object_dtype(dense1_kernel)\n",
    "## kernel\n",
    "temp = np.empty((encrypted_output.shape[0],30,t_size), dtype=object)\n",
    "for t_index in range(t_size):\n",
    "\ttemp[...,t_index] = encrypted_output[...,t_index].dot(dense1_kernel[...,t_index])\n",
    "encrypted_output = temp\n",
    "temp = None\n",
    "## % q\n",
    "for axis1 in range(encrypted_output.shape[1]):\n",
    "\tfor axis2 in range(encrypted_output.shape[2]):\n",
    "\t\tfor poly_group_index in range(poly_groups_count):\n",
    "\t\t\tfor size_index in range(2):\n",
    "\t\t\t\tfor q_index in range(q_size):\n",
    "\t\t\t\t\tfor n_index in range(n_parm+1):\n",
    "\t\t\t\t\t\taxis0 = poly_group_index*enc_poly_size + size_index*q_size*(n_parm+1) + q_index*(n_parm+1) + n_index\n",
    "\t\t\t\t\t\ttemp = encrypted_output[axis0,axis1,axis2]\n",
    "\t\t\t\t\t\ttemp = temp % q_list[q_index]\n",
    "\t\t\t\t\t\tencrypted_output[axis0,axis1,axis2] = temp\n",
    "## bias\n",
    "for axis1 in range(encrypted_output.shape[1]):\n",
    "\tfor axis2 in range(encrypted_output.shape[2]):\n",
    "\t\tfor poly_group_index in range(poly_groups_count):\n",
    "\t\t\tfor q_index in range(q_size):\n",
    "\t\t\t\taxis0 = poly_group_index*enc_poly_size + ((n_parm+1)*q_index)\n",
    "\t\t\t\ttemp = encrypted_output[axis0,axis1,axis2]\n",
    "\t\t\t\ttemp = temp + dense1_bias[axis1,axis2].item()*k_list[axis2][q_index]\n",
    "\t\t\t\ttemp = temp % q_list[q_index]\n",
    "\t\t\t\tencrypted_output[axis0,axis1,axis2] = temp\n",
    "np.save(\"/content/drive/MyDrive/Colab Notebooks/result/output_data/enc_layer_1\", encrypted_output) # !!!! encrypted_output has dtype=object. To load it use the function at the end of the file !!!!\n"
   ]
  },
  {
   "cell_type": "code",
   "execution_count": 41,
   "id": "prZ3ztGi1Oce",
   "metadata": {
    "colab": {
     "base_uri": "https://localhost:8080/"
    },
    "id": "prZ3ztGi1Oce",
    "outputId": "7ee4fc3d-ae4a-4899-8326-f694f6a5fbce"
   },
   "outputs": [
    {
     "name": "stdout",
     "output_type": "stream",
     "text": [
      "Computing layer 2/5...\n"
     ]
    }
   ],
   "source": [
    "\n",
    "# LAYER 2: square activation function\n",
    "print(\"Computing layer 2/5...\")\n",
    "encrypted_output = SEALobj.square_tensor(encrypted_output)\n",
    "np.save(\"/content/drive/MyDrive/Colab Notebooks/result/output_data/enc_layer_2\", encrypted_output)\n",
    "\n"
   ]
  },
  {
   "cell_type": "code",
   "execution_count": 42,
   "id": "G1jd3DMlybVg",
   "metadata": {
    "colab": {
     "base_uri": "https://localhost:8080/"
    },
    "id": "G1jd3DMlybVg",
    "outputId": "961c6d61-97cb-426d-e2a8-b317a7a0b428"
   },
   "outputs": [
    {
     "name": "stdout",
     "output_type": "stream",
     "text": [
      "Computing layer 3/5...\n"
     ]
    }
   ],
   "source": [
    "# LAYER 3: fully connected layer\n",
    "print(\"Computing layer 3/5...\")\n",
    "encrypted_output = to_object_dtype(encrypted_output)\n",
    "dense2_kernel = to_object_dtype(dense2_kernel)\n",
    "## kernel\n",
    "temp = np.empty((encrypted_output.shape[0],16,t_size), dtype=object)\n",
    "for t_index in range(t_size):\n",
    "\ttemp[...,t_index] = encrypted_output[...,t_index].dot(dense2_kernel[...,t_index])\n",
    "encrypted_output = temp\n",
    "temp = None\n",
    "## % q\n",
    "for axis1 in range(encrypted_output.shape[1]):\n",
    "\tfor axis2 in range(encrypted_output.shape[2]):\n",
    "\t\tfor poly_group_index in range(poly_groups_count):\n",
    "\t\t\tfor size_index in range(2):\n",
    "\t\t\t\tfor q_index in range(q_size):\n",
    "\t\t\t\t\tfor n_index in range(n_parm+1):\n",
    "\t\t\t\t\t\taxis0 = poly_group_index*enc_poly_size + size_index*q_size*(n_parm+1) + q_index*(n_parm+1) + n_index\n",
    "\t\t\t\t\t\ttemp = encrypted_output[axis0,axis1,axis2]\n",
    "\t\t\t\t\t\ttemp = temp % q_list[q_index]\n",
    "\t\t\t\t\t\tencrypted_output[axis0,axis1,axis2] = temp\n",
    "## bias\n",
    "for axis1 in range(encrypted_output.shape[1]):\n",
    "\tfor axis2 in range(encrypted_output.shape[2]):\n",
    "\t\tfor poly_group_index in range(poly_groups_count):\n",
    "\t\t\tfor q_index in range(q_size):\n",
    "\t\t\t\taxis0 = poly_group_index*enc_poly_size + ((n_parm+1)*q_index)\n",
    "\t\t\t\ttemp = encrypted_output[axis0,axis1,axis2]\n",
    "\t\t\t\ttemp = temp + dense2_bias[axis1,axis2].item()*k_list[axis2][q_index]\n",
    "\t\t\t\ttemp = temp % q_list[q_index]\n",
    "\t\t\t\tencrypted_output[axis0,axis1,axis2] = temp\n",
    "np.save(\"/content/drive/MyDrive/Colab Notebooks/result/output_data/enc_layer_3\", encrypted_output) # !!!! encrypted_output has dtype=object. To load it use the function at the end of the file !!!!\n"
   ]
  },
  {
   "cell_type": "code",
   "execution_count": 43,
   "id": "riEdEoAG3NcQ",
   "metadata": {
    "colab": {
     "base_uri": "https://localhost:8080/"
    },
    "id": "riEdEoAG3NcQ",
    "outputId": "b0ca29af-50f7-4ff4-c67e-4ddbf6c9e2c9"
   },
   "outputs": [
    {
     "name": "stdout",
     "output_type": "stream",
     "text": [
      "Computing layer 4/5...\n"
     ]
    }
   ],
   "source": [
    "# LAYER 4: square activation function\n",
    "print(\"Computing layer 4/5...\")\n",
    "encrypted_output = SEALobj.square_tensor(encrypted_output)\n",
    "np.save(\"/content/drive/MyDrive/Colab Notebooks/result/output_data/enc_layer_4\", encrypted_output)\n"
   ]
  },
  {
   "cell_type": "code",
   "execution_count": 44,
   "id": "L-PeT6Ph1GON",
   "metadata": {
    "colab": {
     "base_uri": "https://localhost:8080/"
    },
    "id": "L-PeT6Ph1GON",
    "outputId": "341bd45b-3013-4a0f-fc07-906a568752eb"
   },
   "outputs": [
    {
     "name": "stdout",
     "output_type": "stream",
     "text": [
      "Computing layer 5/5...\n"
     ]
    }
   ],
   "source": [
    "# LAYER 5: fully connected layer\n",
    "print(\"Computing layer 5/5...\")\n",
    "encrypted_output = to_object_dtype(encrypted_output)\n",
    "dense3_kernel = to_object_dtype(dense3_kernel)\n",
    "## kernel\n",
    "temp = np.empty((encrypted_output.shape[0],2,t_size), dtype=object)\n",
    "for t_index in range(t_size):\n",
    "\ttemp[...,t_index] = encrypted_output[...,t_index].dot(dense3_kernel[...,t_index])\n",
    "encrypted_output = temp\n",
    "temp = None\n",
    "## % q\n",
    "for axis1 in range(encrypted_output.shape[1]):\n",
    "\tfor axis2 in range(encrypted_output.shape[2]):\n",
    "\t\tfor poly_group_index in range(poly_groups_count):\n",
    "\t\t\tfor size_index in range(2):\n",
    "\t\t\t\tfor q_index in range(q_size):\n",
    "\t\t\t\t\tfor n_index in range(n_parm+1):\n",
    "\t\t\t\t\t\taxis0 = poly_group_index*enc_poly_size + size_index*q_size*(n_parm+1) + q_index*(n_parm+1) + n_index\n",
    "\t\t\t\t\t\ttemp = encrypted_output[axis0,axis1,axis2]\n",
    "\t\t\t\t\t\ttemp = temp % q_list[q_index]\n",
    "\t\t\t\t\t\tencrypted_output[axis0,axis1,axis2] = temp\n",
    "## bias\n",
    "for axis1 in range(encrypted_output.shape[1]):\n",
    "\tfor axis2 in range(encrypted_output.shape[2]):\n",
    "\t\tfor poly_group_index in range(poly_groups_count):\n",
    "\t\t\tfor q_index in range(q_size):\n",
    "\t\t\t\taxis0 = poly_group_index*enc_poly_size + ((n_parm+1)*q_index)\n",
    "\t\t\t\ttemp = encrypted_output[axis0,axis1,axis2]\n",
    "\t\t\t\ttemp = temp + dense3_bias[axis1,axis2].item()*k_list[axis2][q_index]\n",
    "\t\t\t\ttemp = temp % q_list[q_index]\n",
    "\t\t\t\tencrypted_output[axis0,axis1,axis2] = temp\n",
    "np.save(\"/content/drive/MyDrive/Colab Notebooks/result/output_data/enc_layer_5\", encrypted_output) # !!!! encrypted_output has dtype=object. To load it use the function at the end of the file !!!!\n"
   ]
  },
  {
   "cell_type": "code",
   "execution_count": 45,
   "id": "JOZ8NJGZ1S8y",
   "metadata": {
    "id": "JOZ8NJGZ1S8y"
   },
   "outputs": [],
   "source": [
    "temp = None"
   ]
  },
  {
   "cell_type": "code",
   "execution_count": 46,
   "id": "XD1KloHg1s7c",
   "metadata": {
    "colab": {
     "base_uri": "https://localhost:8080/"
    },
    "id": "XD1KloHg1s7c",
    "outputId": "63372ff2-301f-4703-c5ab-55be90f343e6"
   },
   "outputs": [
    {
     "name": "stdout",
     "output_type": "stream",
     "text": [
      "Decrypting the output...\n"
     ]
    }
   ],
   "source": [
    "# DECRYPT\n",
    "print(\"Decrypting the output...\")\n",
    "decrypted_output = SEALobj.decrypt_tensor(encrypted_output, examples_count)\n",
    "encrypted_output = None\n",
    "np.save(\"/content/drive/MyDrive/Colab Notebooks/result/output_data/decrypted_layer_5\", decrypted_output)\n",
    "\n"
   ]
  },
  {
   "cell_type": "markdown",
   "id": "TSVbRTwR3_SH",
   "metadata": {
    "id": "TSVbRTwR3_SH"
   },
   "source": [
    "POST_DECODE.PY"
   ]
  },
  {
   "cell_type": "code",
   "execution_count": 47,
   "id": "VtGM0P5e4DAX",
   "metadata": {
    "id": "VtGM0P5e4DAX"
   },
   "outputs": [],
   "source": [
    "# Compare and decode plain and decrypted tensors. Compare predictions to floating point numbers\n",
    "# in TensorFlow to check the loss of accuracy."
   ]
  },
  {
   "cell_type": "code",
   "execution_count": 48,
   "id": "VO0REkIg4GAc",
   "metadata": {
    "id": "VO0REkIg4GAc"
   },
   "outputs": [],
   "source": [
    "import os.path"
   ]
  },
  {
   "cell_type": "code",
   "execution_count": 49,
   "id": "EzG7XJYr4KUe",
   "metadata": {
    "id": "EzG7XJYr4KUe"
   },
   "outputs": [],
   "source": [
    "plain_output_exists = os.path.isfile(\"/content/drive/MyDrive/Colab Notebooks/result/output_data/plain_layer_5.npy\")\n",
    "decrypted_output_exists = os.path.isfile(\"/content/drive/MyDrive/Colab Notebooks/result/output_data/decrypted_layer_5.npy\")"
   ]
  },
  {
   "cell_type": "code",
   "execution_count": 50,
   "id": "dyfABiUo4X4F",
   "metadata": {
    "id": "dyfABiUo4X4F"
   },
   "outputs": [],
   "source": [
    "# import numpy as np\n",
    "# import pandas as pd\n",
    "\n",
    "# # import tensorflow as tf\n",
    "# import tensorflow.compat.v1 as tf\n",
    "# tf.disable_v2_behavior()\n",
    "# from sklearn.preprocessing import StandardScaler\n",
    "# from sklearn.model_selection import train_test_split\n",
    "# from sklearn import metrics\n",
    "\n",
    "# import os\n",
    "# import sys\n",
    "# import shutil\n",
    "\n",
    "# from sklearn.datasets import load_breast_cancer\n",
    "# from wrapper import t_list"
   ]
  },
  {
   "cell_type": "code",
   "execution_count": 51,
   "id": "wAVdnakt6p5I",
   "metadata": {
    "id": "wAVdnakt6p5I"
   },
   "outputs": [],
   "source": [
    "# data = load_breast_cancer()\n",
    "# # target = 1 - data.target\n",
    "\n",
    "# # MUST reshape target (y) to be list of lists for TensorFlow \n",
    "# target = data.target.reshape(-1,1)"
   ]
  },
  {
   "cell_type": "code",
   "execution_count": 52,
   "id": "ht2XVlWr6tJz",
   "metadata": {
    "id": "ht2XVlWr6tJz"
   },
   "outputs": [],
   "source": [
    "# temp = np.zeros(target.size)\n",
    "# target = np.insert(target, 0, temp, axis=1)\n",
    "# for i in range(len(target)):\n",
    "#   target[i][0] = 1 - target[i][1]"
   ]
  },
  {
   "cell_type": "code",
   "execution_count": 53,
   "id": "IkTHnJNd6vmi",
   "metadata": {
    "id": "IkTHnJNd6vmi"
   },
   "outputs": [],
   "source": [
    "# # Split the dataset into train and test sets\n",
    "# X_train, X_test, y_train, y_test = train_test_split(data.data, target)"
   ]
  },
  {
   "cell_type": "code",
   "execution_count": 54,
   "id": "9KTSpPQK6xOX",
   "metadata": {
    "id": "9KTSpPQK6xOX"
   },
   "outputs": [],
   "source": [
    "# ss = StandardScaler()\n",
    "# X_train = ss.fit_transform(X_train)\n",
    "# X_test = ss.transform(X_test)"
   ]
  },
  {
   "cell_type": "code",
   "execution_count": 55,
   "id": "xCZQOUt86ktz",
   "metadata": {
    "id": "xCZQOUt86ktz"
   },
   "outputs": [],
   "source": [
    "# # shape None == allow dynamic number of rows; X_train.shape[1] == number of features\n",
    "# X = tf.placeholder(dtype=tf.float32, shape=(None, X_train.shape[1]), name='X')\n",
    "# y = tf.placeholder(dtype=tf.float32, shape=(None,2), name='y')"
   ]
  },
  {
   "cell_type": "code",
   "execution_count": 56,
   "id": "RVcmhTyt6o57",
   "metadata": {
    "id": "RVcmhTyt6o57"
   },
   "outputs": [],
   "source": [
    "# # First hidden layer\n",
    "# # X == features coming in, 30 == number of features == neurons\n",
    "# h1 = tf.layers.dense(X, 30, name='dense1')\n",
    "# h1 = h1 * h1\n",
    "# # Second hidden layer\n",
    "# # h1 == features coming in, 26 == number of neurons == arbitrary\n",
    "# h2 = tf.layers.dense(h1, 16, name='dense2')\n",
    "# h2 = h2 * h2\n",
    "# # Last/output layar always has 1 neuron for binary classification problems\n",
    "# model1 = tf.layers.dense(h2, 2, name='dense3')\n",
    "\n",
    "# model = tf.sigmoid(model1, name='sigmoid')\n",
    "# # model = approx_sigmoid(model)"
   ]
  },
  {
   "cell_type": "code",
   "execution_count": 57,
   "id": "wXWty9tT7idB",
   "metadata": {
    "id": "wXWty9tT7idB"
   },
   "outputs": [],
   "source": [
    "# loss = tf.losses.log_loss(y, model)\n",
    "\n",
    "# # Define training operation\n",
    "# training_op = tf.train.AdamOptimizer(.01).minimize(loss)"
   ]
  },
  {
   "cell_type": "code",
   "execution_count": 58,
   "id": "T8DU0NAI752g",
   "metadata": {
    "id": "T8DU0NAI752g"
   },
   "outputs": [],
   "source": [
    "def extended_Euclidean_algorithm(a, b):\n",
    "\tb0 = b\n",
    "\tx0, x1 = 0, 1\n",
    "\tif b == 1: return 1\n",
    "\twhile a > 1:\n",
    "\t\tq = a // b\n",
    "\t\ta, b = b, a%b\n",
    "\t\tx0, x1 = x1 - q * x0, x0\n",
    "\tif x1 < 0: x1 += b0\n",
    "\treturn x1\n"
   ]
  },
  {
   "cell_type": "code",
   "execution_count": 59,
   "id": "LNICfbNb8Hu_",
   "metadata": {
    "id": "LNICfbNb8Hu_"
   },
   "outputs": [],
   "source": [
    "def chinese_remainder_theorem(array):\n",
    "\tresult = 0\n",
    "\tfor t_index in range(len(array)):\n",
    "\t\tresult += array[t_index].item() * bezout_coefficients[t_index] * t_product_over_t[t_index]\n",
    "\treturn result % t_product"
   ]
  },
  {
   "cell_type": "code",
   "execution_count": 60,
   "id": "9OgnJDeT8OEH",
   "metadata": {
    "id": "9OgnJDeT8OEH"
   },
   "outputs": [],
   "source": [
    "def crt_inverse(tensor):\n",
    "\texamples_count = tensor.shape[0]\n",
    "\ttemp = np.empty(tensor.shape[:-1], dtype=object)\n",
    "\tfor i in range(examples_count):\n",
    "\t\tfor j in range(2):\n",
    "\t\t\ttemp[i, j] = chinese_remainder_theorem(plain_output[i, j, :])\n",
    "\t\t\tif (temp[i, j]>negative_threshold):\n",
    "\t\t\t\ttemp[i, j] = temp[i, j] - t_product\n",
    "\treturn temp\n"
   ]
  },
  {
   "cell_type": "code",
   "execution_count": 61,
   "id": "5RkI4SB58Zi4",
   "metadata": {
    "id": "5RkI4SB58Zi4"
   },
   "outputs": [],
   "source": [
    "# CRT PARAMETERS\n",
    "# compute the producte of all t, and the threshold for negative numbers:\n",
    "#   t_product\n",
    "#   negative_threshold\n",
    "t_product = 1\n",
    "for t_index in range(len(t_list)):\n",
    "\tt_product = t_product * t_list[t_index]\n",
    "negative_threshold = t_product // 2\n",
    "# compute t_product // t and the Bezout coefficients, for all t: \n",
    "#   t_product_over_t\n",
    "#   bezout_coefficients\n",
    "t_product_over_t = []\n",
    "bezout_coefficients = []\n",
    "for t_index in range(len(t_list)):\n",
    "\tt_product_over_t.append(t_product // t_list[t_index])\n",
    "\ttemp = extended_Euclidean_algorithm(t_product_over_t[t_index], t_list[t_index])\n",
    "\tbezout_coefficients.append(temp)\n",
    "\n"
   ]
  },
  {
   "cell_type": "code",
   "execution_count": 62,
   "id": "xYeyne198gX5",
   "metadata": {
    "colab": {
     "base_uri": "https://localhost:8080/"
    },
    "id": "xYeyne198gX5",
    "outputId": "eeafc8ac-f051-4e98-abf9-75a10700233d"
   },
   "outputs": [
    {
     "name": "stdout",
     "output_type": "stream",
     "text": [
      "---- Plain and decrypted outputs coincide ----\n"
     ]
    }
   ],
   "source": [
    "# COMPUTE PREDICTIONS\n",
    "string = \"\"\n",
    "if (plain_output_exists):\n",
    "\tplain_output = np.load(\"/content/drive/MyDrive/Colab Notebooks/result/output_data/plain_layer_5.npy\")\n",
    "if (decrypted_output_exists):\n",
    "\tdecrypted_output = np.load(\"/content/drive/MyDrive/Colab Notebooks/result/output_data/decrypted_layer_5.npy\")\n",
    "\tif (plain_output_exists):\n",
    "\t\tif (np.array_equal(plain_output, decrypted_output)):\n",
    "\t\t\tprint(\"---- Plain and decrypted outputs coincide ----\")\n",
    "\t\t\tcn_predictions = crt_inverse(decrypted_output)\n",
    "\t\t\tstring = \"Accuracy with SEAL encryption:\"\n",
    "\t\telse:\n",
    "\t\t\tprint(\"---- Plain and decrypted outputs are different. Computing accuracy with plain output ----\")\n",
    "\t\t\tcn_predictions = crt_inverse(plain_output)\n",
    "\t\t\tstring = \"Accuracy with integer numbers (no encryption):\"\n",
    "\telse:\n",
    "\t\tprint(\"---- plain_layer_5.npy file is missing. Can't compare decrypted and plain outputs ----\")\n",
    "\t\tcn_predictions = crt_inverse(decrypted_output)\n",
    "\t\tstring = \"Accuracy with SEAL encryption:\"\n",
    "else:\n",
    "\tprint(\"---- decrypted_layer_5.npy file is missing. Can't compare decrypted and plain outputs ----\")\n",
    "\tprint(\"Computing accuracy with plain output...\")\n",
    "\tcn_predictions = crt_inverse(plain_output)\n",
    "\tstring = \"Accuracy with integer numbers (no encryption):\"\n",
    "cn_predictions = np.argmax(cn_predictions, axis=1)\n"
   ]
  },
  {
   "cell_type": "code",
   "execution_count": 63,
   "id": "SxzwyxIc3fA-",
   "metadata": {
    "id": "SxzwyxIc3fA-"
   },
   "outputs": [],
   "source": [
    "# cn_predictions = np.argmax(cn_predictions, axis=1)\n",
    "# print(cn_predictions)\n",
    "# print(np.argmax(y_test, axis=1))"
   ]
  },
  {
   "cell_type": "code",
   "execution_count": 64,
   "id": "K0b9dpDI732z",
   "metadata": {
    "colab": {
     "base_uri": "https://localhost:8080/"
    },
    "id": "K0b9dpDI732z",
    "outputId": "75a541a7-d801-4eb8-ee50-d2e6b2873659"
   },
   "outputs": [
    {
     "data": {
      "text/plain": [
       "array([[0],\n",
       "       [0],\n",
       "       [0],\n",
       "       [0],\n",
       "       [0],\n",
       "       [0],\n",
       "       [0],\n",
       "       [0],\n",
       "       [0],\n",
       "       [0]])"
      ]
     },
     "execution_count": 64,
     "metadata": {},
     "output_type": "execute_result"
    }
   ],
   "source": [
    "data.target.reshape(-1,1)[:10]"
   ]
  },
  {
   "cell_type": "code",
   "execution_count": 65,
   "id": "CbS-LNHo9ALm",
   "metadata": {
    "colab": {
     "base_uri": "https://localhost:8080/"
    },
    "id": "CbS-LNHo9ALm",
    "outputId": "a6649a48-e081-4b74-f4b4-d779d6979404"
   },
   "outputs": [
    {
     "name": "stdout",
     "output_type": "stream",
     "text": [
      "[1 1 0 1 1 0 1 1 1 1 1 1 1 1 1 0 1 1 0 1 0 1 1 1 1 1 0 1 1 1 0 0 1 0 1 1 1\n",
      " 0 0 1 1 0 1 1 0 1 1 0 1 0 1 1 0 1 0 1 0 0 0 1 0 1 0 0 0 1 1 0 1 1 1 1 1 1\n",
      " 1 1 1 1 0 0 1 1 1 1 1 1 1 0 1 1 0 1 1 0 1 1 0 1 1 0 1 1 0 0 0 1 1 1 1 0 0\n",
      " 0 0 0 0 0 1 0 1 1 1 1 1 1 0 1 1 0 1 1 1 1 1 1 0 1 1 1 1 1 0 0 1]\n"
     ]
    }
   ],
   "source": [
    "print(cn_predictions)"
   ]
  },
  {
   "cell_type": "code",
   "execution_count": 66,
   "id": "AQ4iBqnG9exP",
   "metadata": {
    "colab": {
     "base_uri": "https://localhost:8080/"
    },
    "id": "AQ4iBqnG9exP",
    "outputId": "c094d334-13a2-472f-d2dc-b3547d09a345"
   },
   "outputs": [
    {
     "name": "stdout",
     "output_type": "stream",
     "text": [
      "INFO:tensorflow:Restoring parameters from /content/drive/MyDrive/Colab Notebooks/result/nn_data/net-1000\n",
      "Accuracy with tensorflow and no CRT: 0.993007\n",
      "Accuracy with SEAL encryption: 0.993007\n",
      "Number of swapped predictions:  0\n"
     ]
    }
   ],
   "source": [
    "saver = tf.train.Saver()\n",
    "\n",
    "# PRINT ACCURACIES\n",
    "with tf.Session() as sess:\n",
    "\tsaver.restore(sess, '/content/drive/MyDrive/Colab Notebooks/result/nn_data/net-1000')\n",
    "\n",
    "\ttf_guessed_predictions = tf.equal(tf.argmax(model, 1), tf.argmax(y, 1))\n",
    "\ttf_accuracy = tf.reduce_mean(tf.cast(tf_guessed_predictions, \"float\"))\n",
    "\tcn_guessed_predictions = tf.equal(cn_predictions, tf.argmax(y, 1))\n",
    "\tcn_accuracy = tf.reduce_mean(tf.cast(cn_guessed_predictions, \"float\"))\n",
    "\n",
    "\n",
    "\ttf_guessed_predictions_ = tf_guessed_predictions.eval({X: X_test, y: y_test})\n",
    "\tcn_guessed_predictions_ = cn_guessed_predictions.eval({y: y_test})\n",
    "\tswapped_predictions_count = 0\n",
    "\tfor i in range(tf_guessed_predictions_.size):\n",
    "\t\tif (tf_guessed_predictions_[i]!=cn_guessed_predictions_[i]):\n",
    "\t\t\tswapped_predictions_count = swapped_predictions_count + 1\n",
    "\n",
    "\n",
    "\tprint(\"Accuracy with tensorflow and no CRT:\", tf_accuracy.eval({X: X_test, y: y_test}))\n",
    "\tprint(string, cn_accuracy.eval({X: X_test, y: y_test}))\n",
    "\tprint(\"Number of swapped predictions: \", swapped_predictions_count)"
   ]
  },
  {
   "cell_type": "code",
   "execution_count": 67,
   "id": "9Nsu1fJ0AnBR",
   "metadata": {
    "colab": {
     "base_uri": "https://localhost:8080/"
    },
    "id": "9Nsu1fJ0AnBR",
    "outputId": "1a83e86d-c399-4b03-e2eb-1f2b3ad04f20"
   },
   "outputs": [
    {
     "name": "stdout",
     "output_type": "stream",
     "text": [
      "(?, 2)\n"
     ]
    }
   ],
   "source": [
    "print(y.shape)"
   ]
  },
  {
   "cell_type": "code",
   "execution_count": 68,
   "id": "FdLhq2kB0vNt",
   "metadata": {
    "colab": {
     "base_uri": "https://localhost:8080/"
    },
    "id": "FdLhq2kB0vNt",
    "outputId": "990c4acb-c5aa-4ad8-e558-9c1b53373bdb"
   },
   "outputs": [
    {
     "name": "stdout",
     "output_type": "stream",
     "text": [
      "0\n"
     ]
    }
   ],
   "source": [
    "count = 0\n",
    "for i in range(plain_output.shape[0]):\n",
    "  if(np.array_equal(decrypted_output[i], plain_output[i])):\n",
    "    continue\n",
    "  else:\n",
    "    count += 1\n",
    "print(count)"
   ]
  },
  {
   "cell_type": "code",
   "execution_count": 69,
   "id": "5OgOGAjS8Xyo",
   "metadata": {
    "colab": {
     "base_uri": "https://localhost:8080/"
    },
    "id": "5OgOGAjS8Xyo",
    "outputId": "1fd13565-018f-44a1-cbdf-ee64c0061290"
   },
   "outputs": [
    {
     "data": {
      "text/plain": [
       "array([[ 24675,  31741,  92163,  92340,  14433],\n",
       "       [ 28187,  32338,  32600,  15816, 144487]], dtype=uint64)"
      ]
     },
     "execution_count": 69,
     "metadata": {},
     "output_type": "execute_result"
    }
   ],
   "source": [
    "plain_output[0]"
   ]
  },
  {
   "cell_type": "code",
   "execution_count": 70,
   "id": "7JylE2pf82xZ",
   "metadata": {
    "colab": {
     "base_uri": "https://localhost:8080/"
    },
    "id": "7JylE2pf82xZ",
    "outputId": "86336b9b-0fd4-490c-83c2-e2c31a2b5efd"
   },
   "outputs": [
    {
     "data": {
      "text/plain": [
       "array([[ 24675,  31741,  92163,  92340,  14433],\n",
       "       [ 28187,  32338,  32600,  15816, 144487]], dtype=uint64)"
      ]
     },
     "execution_count": 70,
     "metadata": {},
     "output_type": "execute_result"
    }
   ],
   "source": [
    "decrypted_output[0]"
   ]
  },
  {
   "cell_type": "code",
   "execution_count": 70,
   "id": "1pB3plqJBoSr",
   "metadata": {
    "id": "1pB3plqJBoSr"
   },
   "outputs": [],
   "source": []
  }
 ],
 "metadata": {
  "colab": {
   "collapsed_sections": [],
   "name": "general.ipynb",
   "provenance": []
  },
  "kernelspec": {
   "display_name": "Python 3 (ipykernel)",
   "language": "python",
   "name": "python3"
  },
  "language_info": {
   "codemirror_mode": {
    "name": "ipython",
    "version": 3
   },
   "file_extension": ".py",
   "mimetype": "text/x-python",
   "name": "python",
   "nbconvert_exporter": "python",
   "pygments_lexer": "ipython3",
   "version": "3.8.10"
  }
 },
 "nbformat": 4,
 "nbformat_minor": 5
}
